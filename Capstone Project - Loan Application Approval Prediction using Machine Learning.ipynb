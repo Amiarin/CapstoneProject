{
 "cells": [
  {
   "cell_type": "markdown",
   "metadata": {},
   "source": [
    "# Arindam Chakraborty\n",
    "## Executive PG Program in Data Science - Capstone Project"
   ]
  },
  {
   "cell_type": "markdown",
   "metadata": {},
   "source": [
    "### Loan Application Approval Prediction using Machine Learning\n"
   ]
  },
  {
   "cell_type": "markdown",
   "metadata": {},
   "source": [
    "#The major aim of this notebook is to predict which of the customers will have their loan approved."
   ]
  },
  {
   "cell_type": "markdown",
   "metadata": {},
   "source": [
    "# Data Id 📋\n",
    "This dataset is named Loan Prediction Dataset.The dataset contains a set of 614 records under 13 attributes:\n",
    "https://www.kaggle.com/datasets/altruistdelhite04/loan-prediction-problem-dataset"
   ]
  },
  {
   "cell_type": "markdown",
   "metadata": {},
   "source": [
    "The main objective for this dataset:\n",
    "Using machine learning techniques to predict loan payments.\n",
    "\n",
    "target value: Loan_Status"
   ]
  },
  {
   "cell_type": "markdown",
   "metadata": {},
   "source": [
    "# Libraries 📕📗📘"
   ]
  },
  {
   "cell_type": "code",
   "execution_count": 1,
   "metadata": {},
   "outputs": [],
   "source": [
    "import numpy as np # linear algebra\n",
    "import pandas as pd # data processing\n",
    "import warnings # warning filter\n",
    "\n",
    "#ploting libraries\n",
    "import matplotlib.pyplot as plt \n",
    "import seaborn as sns\n",
    "\n",
    "#relevant ML libraries\n",
    "from sklearn.preprocessing import LabelEncoder\n",
    "from sklearn.model_selection import train_test_split\n",
    "from sklearn.metrics import confusion_matrix\n",
    "from sklearn.metrics import classification_report\n",
    "from sklearn.metrics import accuracy_score\n",
    "\n",
    "#ML models\n",
    "from xgboost import XGBClassifier\n",
    "from sklearn.tree import DecisionTreeClassifier\n",
    "from sklearn.ensemble import RandomForestClassifier\n",
    "from sklearn.linear_model import LogisticRegression\n",
    "\n",
    "#default theme\n",
    "sns.set(context='notebook', style='darkgrid', palette='deep', font='sans-serif', font_scale=1, color_codes=False, rc=None)\n",
    "\n",
    "#warning handle\n",
    "warnings.filterwarnings(\"ignore\")"
   ]
  },
  {
   "cell_type": "markdown",
   "metadata": {},
   "source": [
    "# File path 📂"
   ]
  },
  {
   "cell_type": "code",
   "execution_count": 2,
   "metadata": {},
   "outputs": [],
   "source": [
    "#path for the training set\n",
    "tr_path = \"train.csv\"\n",
    "\n",
    "#path for the testing set\n",
    "te_path = \"test.csv\""
   ]
  },
  {
   "cell_type": "markdown",
   "metadata": {},
   "source": [
    "# Preprocessing and Data Analysis 💻\n",
    "## First look at the data:\n",
    "\n",
    "### Training set:"
   ]
  },
  {
   "cell_type": "code",
   "execution_count": 3,
   "metadata": {},
   "outputs": [
    {
     "data": {
      "text/html": [
       "<div>\n",
       "<style scoped>\n",
       "    .dataframe tbody tr th:only-of-type {\n",
       "        vertical-align: middle;\n",
       "    }\n",
       "\n",
       "    .dataframe tbody tr th {\n",
       "        vertical-align: top;\n",
       "    }\n",
       "\n",
       "    .dataframe thead th {\n",
       "        text-align: right;\n",
       "    }\n",
       "</style>\n",
       "<table border=\"1\" class=\"dataframe\">\n",
       "  <thead>\n",
       "    <tr style=\"text-align: right;\">\n",
       "      <th></th>\n",
       "      <th>Loan_ID</th>\n",
       "      <th>Gender</th>\n",
       "      <th>Married</th>\n",
       "      <th>Dependents</th>\n",
       "      <th>Education</th>\n",
       "      <th>Self_Employed</th>\n",
       "      <th>ApplicantIncome</th>\n",
       "      <th>CoapplicantIncome</th>\n",
       "      <th>LoanAmount</th>\n",
       "      <th>Loan_Amount_Term</th>\n",
       "      <th>Credit_History</th>\n",
       "      <th>Property_Area</th>\n",
       "      <th>Loan_Status</th>\n",
       "    </tr>\n",
       "  </thead>\n",
       "  <tbody>\n",
       "    <tr>\n",
       "      <td>0</td>\n",
       "      <td>LP001002</td>\n",
       "      <td>Male</td>\n",
       "      <td>No</td>\n",
       "      <td>0</td>\n",
       "      <td>Graduate</td>\n",
       "      <td>No</td>\n",
       "      <td>5849</td>\n",
       "      <td>0.0</td>\n",
       "      <td>NaN</td>\n",
       "      <td>360.0</td>\n",
       "      <td>1.0</td>\n",
       "      <td>Urban</td>\n",
       "      <td>Y</td>\n",
       "    </tr>\n",
       "    <tr>\n",
       "      <td>1</td>\n",
       "      <td>LP001003</td>\n",
       "      <td>Male</td>\n",
       "      <td>Yes</td>\n",
       "      <td>1</td>\n",
       "      <td>Graduate</td>\n",
       "      <td>No</td>\n",
       "      <td>4583</td>\n",
       "      <td>1508.0</td>\n",
       "      <td>128.0</td>\n",
       "      <td>360.0</td>\n",
       "      <td>1.0</td>\n",
       "      <td>Rural</td>\n",
       "      <td>N</td>\n",
       "    </tr>\n",
       "    <tr>\n",
       "      <td>2</td>\n",
       "      <td>LP001005</td>\n",
       "      <td>Male</td>\n",
       "      <td>Yes</td>\n",
       "      <td>0</td>\n",
       "      <td>Graduate</td>\n",
       "      <td>Yes</td>\n",
       "      <td>3000</td>\n",
       "      <td>0.0</td>\n",
       "      <td>66.0</td>\n",
       "      <td>360.0</td>\n",
       "      <td>1.0</td>\n",
       "      <td>Urban</td>\n",
       "      <td>Y</td>\n",
       "    </tr>\n",
       "    <tr>\n",
       "      <td>3</td>\n",
       "      <td>LP001006</td>\n",
       "      <td>Male</td>\n",
       "      <td>Yes</td>\n",
       "      <td>0</td>\n",
       "      <td>Not Graduate</td>\n",
       "      <td>No</td>\n",
       "      <td>2583</td>\n",
       "      <td>2358.0</td>\n",
       "      <td>120.0</td>\n",
       "      <td>360.0</td>\n",
       "      <td>1.0</td>\n",
       "      <td>Urban</td>\n",
       "      <td>Y</td>\n",
       "    </tr>\n",
       "    <tr>\n",
       "      <td>4</td>\n",
       "      <td>LP001008</td>\n",
       "      <td>Male</td>\n",
       "      <td>No</td>\n",
       "      <td>0</td>\n",
       "      <td>Graduate</td>\n",
       "      <td>No</td>\n",
       "      <td>6000</td>\n",
       "      <td>0.0</td>\n",
       "      <td>141.0</td>\n",
       "      <td>360.0</td>\n",
       "      <td>1.0</td>\n",
       "      <td>Urban</td>\n",
       "      <td>Y</td>\n",
       "    </tr>\n",
       "  </tbody>\n",
       "</table>\n",
       "</div>"
      ],
      "text/plain": [
       "    Loan_ID Gender Married Dependents     Education Self_Employed  \\\n",
       "0  LP001002   Male      No          0      Graduate            No   \n",
       "1  LP001003   Male     Yes          1      Graduate            No   \n",
       "2  LP001005   Male     Yes          0      Graduate           Yes   \n",
       "3  LP001006   Male     Yes          0  Not Graduate            No   \n",
       "4  LP001008   Male      No          0      Graduate            No   \n",
       "\n",
       "   ApplicantIncome  CoapplicantIncome  LoanAmount  Loan_Amount_Term  \\\n",
       "0             5849                0.0         NaN             360.0   \n",
       "1             4583             1508.0       128.0             360.0   \n",
       "2             3000                0.0        66.0             360.0   \n",
       "3             2583             2358.0       120.0             360.0   \n",
       "4             6000                0.0       141.0             360.0   \n",
       "\n",
       "   Credit_History Property_Area Loan_Status  \n",
       "0             1.0         Urban           Y  \n",
       "1             1.0         Rural           N  \n",
       "2             1.0         Urban           Y  \n",
       "3             1.0         Urban           Y  \n",
       "4             1.0         Urban           Y  "
      ]
     },
     "execution_count": 3,
     "metadata": {},
     "output_type": "execute_result"
    }
   ],
   "source": [
    "# read in csv file as a DataFrame\n",
    "tr_df = pd.read_csv(tr_path)\n",
    "# explore the first 5 rows\n",
    "tr_df.head()"
   ]
  },
  {
   "cell_type": "markdown",
   "metadata": {},
   "source": [
    "### Testing set:"
   ]
  },
  {
   "cell_type": "code",
   "execution_count": 4,
   "metadata": {},
   "outputs": [
    {
     "data": {
      "text/html": [
       "<div>\n",
       "<style scoped>\n",
       "    .dataframe tbody tr th:only-of-type {\n",
       "        vertical-align: middle;\n",
       "    }\n",
       "\n",
       "    .dataframe tbody tr th {\n",
       "        vertical-align: top;\n",
       "    }\n",
       "\n",
       "    .dataframe thead th {\n",
       "        text-align: right;\n",
       "    }\n",
       "</style>\n",
       "<table border=\"1\" class=\"dataframe\">\n",
       "  <thead>\n",
       "    <tr style=\"text-align: right;\">\n",
       "      <th></th>\n",
       "      <th>Loan_ID</th>\n",
       "      <th>Gender</th>\n",
       "      <th>Married</th>\n",
       "      <th>Dependents</th>\n",
       "      <th>Education</th>\n",
       "      <th>Self_Employed</th>\n",
       "      <th>ApplicantIncome</th>\n",
       "      <th>CoapplicantIncome</th>\n",
       "      <th>LoanAmount</th>\n",
       "      <th>Loan_Amount_Term</th>\n",
       "      <th>Credit_History</th>\n",
       "      <th>Property_Area</th>\n",
       "    </tr>\n",
       "  </thead>\n",
       "  <tbody>\n",
       "    <tr>\n",
       "      <td>0</td>\n",
       "      <td>LP001015</td>\n",
       "      <td>Male</td>\n",
       "      <td>Yes</td>\n",
       "      <td>0</td>\n",
       "      <td>Graduate</td>\n",
       "      <td>No</td>\n",
       "      <td>5720</td>\n",
       "      <td>0</td>\n",
       "      <td>110.0</td>\n",
       "      <td>360.0</td>\n",
       "      <td>1.0</td>\n",
       "      <td>Urban</td>\n",
       "    </tr>\n",
       "    <tr>\n",
       "      <td>1</td>\n",
       "      <td>LP001022</td>\n",
       "      <td>Male</td>\n",
       "      <td>Yes</td>\n",
       "      <td>1</td>\n",
       "      <td>Graduate</td>\n",
       "      <td>No</td>\n",
       "      <td>3076</td>\n",
       "      <td>1500</td>\n",
       "      <td>126.0</td>\n",
       "      <td>360.0</td>\n",
       "      <td>1.0</td>\n",
       "      <td>Urban</td>\n",
       "    </tr>\n",
       "    <tr>\n",
       "      <td>2</td>\n",
       "      <td>LP001031</td>\n",
       "      <td>Male</td>\n",
       "      <td>Yes</td>\n",
       "      <td>2</td>\n",
       "      <td>Graduate</td>\n",
       "      <td>No</td>\n",
       "      <td>5000</td>\n",
       "      <td>1800</td>\n",
       "      <td>208.0</td>\n",
       "      <td>360.0</td>\n",
       "      <td>1.0</td>\n",
       "      <td>Urban</td>\n",
       "    </tr>\n",
       "    <tr>\n",
       "      <td>3</td>\n",
       "      <td>LP001035</td>\n",
       "      <td>Male</td>\n",
       "      <td>Yes</td>\n",
       "      <td>2</td>\n",
       "      <td>Graduate</td>\n",
       "      <td>No</td>\n",
       "      <td>2340</td>\n",
       "      <td>2546</td>\n",
       "      <td>100.0</td>\n",
       "      <td>360.0</td>\n",
       "      <td>NaN</td>\n",
       "      <td>Urban</td>\n",
       "    </tr>\n",
       "    <tr>\n",
       "      <td>4</td>\n",
       "      <td>LP001051</td>\n",
       "      <td>Male</td>\n",
       "      <td>No</td>\n",
       "      <td>0</td>\n",
       "      <td>Not Graduate</td>\n",
       "      <td>No</td>\n",
       "      <td>3276</td>\n",
       "      <td>0</td>\n",
       "      <td>78.0</td>\n",
       "      <td>360.0</td>\n",
       "      <td>1.0</td>\n",
       "      <td>Urban</td>\n",
       "    </tr>\n",
       "  </tbody>\n",
       "</table>\n",
       "</div>"
      ],
      "text/plain": [
       "    Loan_ID Gender Married Dependents     Education Self_Employed  \\\n",
       "0  LP001015   Male     Yes          0      Graduate            No   \n",
       "1  LP001022   Male     Yes          1      Graduate            No   \n",
       "2  LP001031   Male     Yes          2      Graduate            No   \n",
       "3  LP001035   Male     Yes          2      Graduate            No   \n",
       "4  LP001051   Male      No          0  Not Graduate            No   \n",
       "\n",
       "   ApplicantIncome  CoapplicantIncome  LoanAmount  Loan_Amount_Term  \\\n",
       "0             5720                  0       110.0             360.0   \n",
       "1             3076               1500       126.0             360.0   \n",
       "2             5000               1800       208.0             360.0   \n",
       "3             2340               2546       100.0             360.0   \n",
       "4             3276                  0        78.0             360.0   \n",
       "\n",
       "   Credit_History Property_Area  \n",
       "0             1.0         Urban  \n",
       "1             1.0         Urban  \n",
       "2             1.0         Urban  \n",
       "3             NaN         Urban  \n",
       "4             1.0         Urban  "
      ]
     },
     "execution_count": 4,
     "metadata": {},
     "output_type": "execute_result"
    }
   ],
   "source": [
    "# read in csv file as a DataFrame\n",
    "te_df = pd.read_csv(te_path)\n",
    "# explore the first 5 rows\n",
    "te_df.head()"
   ]
  },
  {
   "cell_type": "markdown",
   "metadata": {},
   "source": [
    "# Size of each data set:"
   ]
  },
  {
   "cell_type": "code",
   "execution_count": 5,
   "metadata": {},
   "outputs": [
    {
     "name": "stdout",
     "output_type": "stream",
     "text": [
      "training set (row, col): (614, 13)\n",
      "\n",
      "testing set (row, col): (367, 12)\n"
     ]
    }
   ],
   "source": [
    "print(f\"training set (row, col): {tr_df.shape}\\n\\ntesting set (row, col): {te_df.shape}\")"
   ]
  },
  {
   "cell_type": "markdown",
   "metadata": {},
   "source": [
    "## Now the focus is shifted for the preprocessing of the training dataset."
   ]
  },
  {
   "cell_type": "code",
   "execution_count": 6,
   "metadata": {},
   "outputs": [
    {
     "name": "stdout",
     "output_type": "stream",
     "text": [
      "<class 'pandas.core.frame.DataFrame'>\n",
      "RangeIndex: 614 entries, 0 to 613\n",
      "Data columns (total 13 columns):\n",
      "Loan_ID              614 non-null object\n",
      "Gender               601 non-null object\n",
      "Married              611 non-null object\n",
      "Dependents           599 non-null object\n",
      "Education            614 non-null object\n",
      "Self_Employed        582 non-null object\n",
      "ApplicantIncome      614 non-null int64\n",
      "CoapplicantIncome    614 non-null float64\n",
      "LoanAmount           592 non-null float64\n",
      "Loan_Amount_Term     600 non-null float64\n",
      "Credit_History       564 non-null float64\n",
      "Property_Area        614 non-null object\n",
      "Loan_Status          614 non-null object\n",
      "dtypes: float64(4), int64(1), object(8)\n",
      "memory usage: 62.5+ KB\n"
     ]
    }
   ],
   "source": [
    "#column information\n",
    "tr_df.info(verbose=True, null_counts=True)"
   ]
  },
  {
   "cell_type": "code",
   "execution_count": 7,
   "metadata": {},
   "outputs": [
    {
     "data": {
      "text/html": [
       "<div>\n",
       "<style scoped>\n",
       "    .dataframe tbody tr th:only-of-type {\n",
       "        vertical-align: middle;\n",
       "    }\n",
       "\n",
       "    .dataframe tbody tr th {\n",
       "        vertical-align: top;\n",
       "    }\n",
       "\n",
       "    .dataframe thead th {\n",
       "        text-align: right;\n",
       "    }\n",
       "</style>\n",
       "<table border=\"1\" class=\"dataframe\">\n",
       "  <thead>\n",
       "    <tr style=\"text-align: right;\">\n",
       "      <th></th>\n",
       "      <th>ApplicantIncome</th>\n",
       "      <th>CoapplicantIncome</th>\n",
       "      <th>LoanAmount</th>\n",
       "      <th>Loan_Amount_Term</th>\n",
       "      <th>Credit_History</th>\n",
       "    </tr>\n",
       "  </thead>\n",
       "  <tbody>\n",
       "    <tr>\n",
       "      <td>count</td>\n",
       "      <td>614.000000</td>\n",
       "      <td>614.000000</td>\n",
       "      <td>592.000000</td>\n",
       "      <td>600.00000</td>\n",
       "      <td>564.000000</td>\n",
       "    </tr>\n",
       "    <tr>\n",
       "      <td>mean</td>\n",
       "      <td>5403.459283</td>\n",
       "      <td>1621.245798</td>\n",
       "      <td>146.412162</td>\n",
       "      <td>342.00000</td>\n",
       "      <td>0.842199</td>\n",
       "    </tr>\n",
       "    <tr>\n",
       "      <td>std</td>\n",
       "      <td>6109.041673</td>\n",
       "      <td>2926.248369</td>\n",
       "      <td>85.587325</td>\n",
       "      <td>65.12041</td>\n",
       "      <td>0.364878</td>\n",
       "    </tr>\n",
       "    <tr>\n",
       "      <td>min</td>\n",
       "      <td>150.000000</td>\n",
       "      <td>0.000000</td>\n",
       "      <td>9.000000</td>\n",
       "      <td>12.00000</td>\n",
       "      <td>0.000000</td>\n",
       "    </tr>\n",
       "    <tr>\n",
       "      <td>25%</td>\n",
       "      <td>2877.500000</td>\n",
       "      <td>0.000000</td>\n",
       "      <td>100.000000</td>\n",
       "      <td>360.00000</td>\n",
       "      <td>1.000000</td>\n",
       "    </tr>\n",
       "    <tr>\n",
       "      <td>50%</td>\n",
       "      <td>3812.500000</td>\n",
       "      <td>1188.500000</td>\n",
       "      <td>128.000000</td>\n",
       "      <td>360.00000</td>\n",
       "      <td>1.000000</td>\n",
       "    </tr>\n",
       "    <tr>\n",
       "      <td>75%</td>\n",
       "      <td>5795.000000</td>\n",
       "      <td>2297.250000</td>\n",
       "      <td>168.000000</td>\n",
       "      <td>360.00000</td>\n",
       "      <td>1.000000</td>\n",
       "    </tr>\n",
       "    <tr>\n",
       "      <td>max</td>\n",
       "      <td>81000.000000</td>\n",
       "      <td>41667.000000</td>\n",
       "      <td>700.000000</td>\n",
       "      <td>480.00000</td>\n",
       "      <td>1.000000</td>\n",
       "    </tr>\n",
       "  </tbody>\n",
       "</table>\n",
       "</div>"
      ],
      "text/plain": [
       "       ApplicantIncome  CoapplicantIncome  LoanAmount  Loan_Amount_Term  \\\n",
       "count       614.000000         614.000000  592.000000         600.00000   \n",
       "mean       5403.459283        1621.245798  146.412162         342.00000   \n",
       "std        6109.041673        2926.248369   85.587325          65.12041   \n",
       "min         150.000000           0.000000    9.000000          12.00000   \n",
       "25%        2877.500000           0.000000  100.000000         360.00000   \n",
       "50%        3812.500000        1188.500000  128.000000         360.00000   \n",
       "75%        5795.000000        2297.250000  168.000000         360.00000   \n",
       "max       81000.000000       41667.000000  700.000000         480.00000   \n",
       "\n",
       "       Credit_History  \n",
       "count      564.000000  \n",
       "mean         0.842199  \n",
       "std          0.364878  \n",
       "min          0.000000  \n",
       "25%          1.000000  \n",
       "50%          1.000000  \n",
       "75%          1.000000  \n",
       "max          1.000000  "
      ]
     },
     "execution_count": 7,
     "metadata": {},
     "output_type": "execute_result"
    }
   ],
   "source": [
    "#summary statistics\n",
    "tr_df.describe()"
   ]
  },
  {
   "cell_type": "code",
   "execution_count": 8,
   "metadata": {},
   "outputs": [],
   "source": [
    "#the Id column is not needed, let's drop it for both test and train datasets\n",
    "tr_df.drop('Loan_ID',axis=1,inplace=True)\n",
    "te_df.drop('Loan_ID',axis=1,inplace=True)"
   ]
  },
  {
   "cell_type": "code",
   "execution_count": 9,
   "metadata": {},
   "outputs": [
    {
     "name": "stdout",
     "output_type": "stream",
     "text": [
      "training set (row, col): (614, 12)\n",
      "\n",
      "testing set (row, col): (367, 11)\n"
     ]
    }
   ],
   "source": [
    "#checking the new shapes\n",
    "print(f\"training set (row, col): {tr_df.shape}\\n\\ntesting set (row, col): {te_df.shape}\")"
   ]
  },
  {
   "cell_type": "markdown",
   "metadata": {},
   "source": [
    "# Missing values 🚫\n",
    "As we can see we have some missing data, let's have a look how many we have for each column:"
   ]
  },
  {
   "cell_type": "code",
   "execution_count": 10,
   "metadata": {},
   "outputs": [
    {
     "data": {
      "text/plain": [
       "Credit_History       50\n",
       "Self_Employed        32\n",
       "LoanAmount           22\n",
       "Dependents           15\n",
       "Loan_Amount_Term     14\n",
       "Gender               13\n",
       "Married               3\n",
       "Loan_Status           0\n",
       "Property_Area         0\n",
       "CoapplicantIncome     0\n",
       "ApplicantIncome       0\n",
       "Education             0\n",
       "dtype: int64"
      ]
     },
     "execution_count": 10,
     "metadata": {},
     "output_type": "execute_result"
    }
   ],
   "source": [
    "#missing values in decsending order\n",
    "tr_df.isnull().sum().sort_values(ascending=False)"
   ]
  },
  {
   "cell_type": "markdown",
   "metadata": {},
   "source": [
    "Each value will be replaced by the most frequent value (mode). \n",
    "E.G. Credit_History has 50 null values and has 2 unique values 1.0 (475 times) or 0.0 (89 times) therefore each null value will be replaced by the mode 1.0 so now it will show in our data 525 times."
   ]
  },
  {
   "cell_type": "code",
   "execution_count": 11,
   "metadata": {},
   "outputs": [
    {
     "name": "stdout",
     "output_type": "stream",
     "text": [
      "Before filling missing values\n",
      "\n",
      " ################################################## \n",
      "\n",
      "Credit_History:\n",
      "1.0    475\n",
      "0.0     89\n",
      "Name: Credit_History, dtype: int64\n",
      " --------------------------------------------------\n",
      "Self_Employed:\n",
      "No     500\n",
      "Yes     82\n",
      "Name: Self_Employed, dtype: int64\n",
      " --------------------------------------------------\n",
      "LoanAmount:\n",
      "120.0    20\n",
      "110.0    17\n",
      "100.0    15\n",
      "187.0    12\n",
      "160.0    12\n",
      "         ..\n",
      "570.0     1\n",
      "300.0     1\n",
      "376.0     1\n",
      "117.0     1\n",
      "311.0     1\n",
      "Name: LoanAmount, Length: 203, dtype: int64\n",
      " --------------------------------------------------\n",
      "Dependents:\n",
      "0     345\n",
      "1     102\n",
      "2     101\n",
      "3+     51\n",
      "Name: Dependents, dtype: int64\n",
      " --------------------------------------------------\n",
      "Loan_Amount_Term:\n",
      "360.0    512\n",
      "180.0     44\n",
      "480.0     15\n",
      "300.0     13\n",
      "84.0       4\n",
      "240.0      4\n",
      "120.0      3\n",
      "36.0       2\n",
      "60.0       2\n",
      "12.0       1\n",
      "Name: Loan_Amount_Term, dtype: int64\n",
      " --------------------------------------------------\n",
      "Gender:\n",
      "Male      489\n",
      "Female    112\n",
      "Name: Gender, dtype: int64\n",
      " --------------------------------------------------\n",
      "Married:\n",
      "Yes    398\n",
      "No     213\n",
      "Name: Married, dtype: int64\n",
      " --------------------------------------------------\n",
      "After filling missing values\n",
      "\n",
      " ################################################## \n",
      "\n",
      "\n",
      "Credit_History:\n",
      "1.0    525\n",
      "0.0     89\n",
      "Name: Credit_History, dtype: int64\n",
      " --------------------------------------------------\n",
      "\n",
      "Self_Employed:\n",
      "No     532\n",
      "Yes     82\n",
      "Name: Self_Employed, dtype: int64\n",
      " --------------------------------------------------\n",
      "\n",
      "LoanAmount:\n",
      "120.0    42\n",
      "110.0    17\n",
      "100.0    15\n",
      "187.0    12\n",
      "160.0    12\n",
      "         ..\n",
      "570.0     1\n",
      "300.0     1\n",
      "376.0     1\n",
      "117.0     1\n",
      "311.0     1\n",
      "Name: LoanAmount, Length: 203, dtype: int64\n",
      " --------------------------------------------------\n",
      "\n",
      "Dependents:\n",
      "0     360\n",
      "1     102\n",
      "2     101\n",
      "3+     51\n",
      "Name: Dependents, dtype: int64\n",
      " --------------------------------------------------\n",
      "\n",
      "Loan_Amount_Term:\n",
      "360.0    526\n",
      "180.0     44\n",
      "480.0     15\n",
      "300.0     13\n",
      "84.0       4\n",
      "240.0      4\n",
      "120.0      3\n",
      "36.0       2\n",
      "60.0       2\n",
      "12.0       1\n",
      "Name: Loan_Amount_Term, dtype: int64\n",
      " --------------------------------------------------\n",
      "\n",
      "Gender:\n",
      "Male      502\n",
      "Female    112\n",
      "Name: Gender, dtype: int64\n",
      " --------------------------------------------------\n",
      "\n",
      "Married:\n",
      "Yes    401\n",
      "No     213\n",
      "Name: Married, dtype: int64\n",
      " --------------------------------------------------\n"
     ]
    }
   ],
   "source": [
    "#filling the missing data\n",
    "print(\"Before filling missing values\\n\\n\",\"#\"*50,\"\\n\")\n",
    "null_cols = ['Credit_History', 'Self_Employed', 'LoanAmount','Dependents', 'Loan_Amount_Term', 'Gender', 'Married']\n",
    "\n",
    "for col in null_cols:\n",
    "    print(f\"{col}:\\n{tr_df[col].value_counts()}\\n\",\"-\"*50)\n",
    "    tr_df[col] = tr_df[col].fillna(tr_df[col].dropna().mode().values[0] )   \n",
    "\n",
    "    \n",
    "tr_df.isnull().sum().sort_values(ascending=False)\n",
    "print(\"After filling missing values\\n\\n\",\"#\"*50,\"\\n\")\n",
    "for col in null_cols:\n",
    "    print(f\"\\n{col}:\\n{tr_df[col].value_counts()}\\n\",\"-\"*50)"
   ]
  },
  {
   "cell_type": "markdown",
   "metadata": {},
   "source": [
    "# Data visalization 📊\n",
    "## Loan status distribution"
   ]
  },
  {
   "cell_type": "code",
   "execution_count": 12,
   "metadata": {},
   "outputs": [],
   "source": [
    "#list of all the numeric columns\n",
    "num = tr_df.select_dtypes('number').columns.to_list()\n",
    "#list of all the categoric columns\n",
    "cat = tr_df.select_dtypes('object').columns.to_list()\n",
    "\n",
    "#numeric df\n",
    "loan_num =  tr_df[num]\n",
    "#categoric df\n",
    "loan_cat = tr_df[cat]"
   ]
  },
  {
   "cell_type": "code",
   "execution_count": 13,
   "metadata": {},
   "outputs": [
    {
     "name": "stdout",
     "output_type": "stream",
     "text": [
      "Y    422\n",
      "N    192\n",
      "Name: Loan_Status, dtype: int64\n"
     ]
    }
   ],
   "source": [
    "print(tr_df[cat[-1]].value_counts())"
   ]
  },
  {
   "cell_type": "code",
   "execution_count": 14,
   "metadata": {},
   "outputs": [
    {
     "data": {
      "image/png": "[encoded data removed]",
      "text/plain": [
       "<Figure size 576x720 with 1 Axes>"
      ]
     },
     "metadata": {
      "needs_background": "light"
     },
     "output_type": "display_data"
    }
   ],
   "source": [
    "total = float(len(tr_df[cat[-1]]))\n",
    "plt.figure(figsize=(8,10))\n",
    "sns.set(style=\"whitegrid\")\n",
    "ax = sns.countplot(tr_df[cat[-1]])\n",
    "for p in ax.patches:\n",
    "    height = p.get_height()\n",
    "    ax.text(p.get_x()+p.get_width()/2.,height + 3,'{:1.2f}'.format(height/total),ha=\"center\") \n",
    "plt.show()"
   ]
  },
  {
   "cell_type": "markdown",
   "metadata": {},
   "source": [
    "## Let's plot our data\n",
    "\n",
    "### Numeric:"
   ]
  },
  {
   "cell_type": "code",
   "execution_count": 15,
   "metadata": {},
   "outputs": [
    {
     "data": {
      "image/png": "[encoded data removed]",
      "text/plain": [
       "<Figure size 432x288 with 1 Axes>"
      ]
     },
     "metadata": {},
     "output_type": "display_data"
    },
    {
     "data": {
      "image/png": "[encoded data removed]",
      "text/plain": [
       "<Figure size 432x288 with 1 Axes>"
      ]
     },
     "metadata": {},
     "output_type": "display_data"
    },
    {
     "data": {
      "image/png": "[encoded data removed]",
      "text/plain": [
       "<Figure size 432x288 with 1 Axes>"
      ]
     },
     "metadata": {},
     "output_type": "display_data"
    },
    {
     "data": {
      "image/png": "[encoded data removed]",
      "text/plain": [
       "<Figure size 432x288 with 1 Axes>"
      ]
     },
     "metadata": {},
     "output_type": "display_data"
    },
    {
     "data": {
      "image/png": "[encoded data removed]",
      "text/plain": [
       "<Figure size 432x288 with 1 Axes>"
      ]
     },
     "metadata": {},
     "output_type": "display_data"
    }
   ],
   "source": [
    "for i in loan_num:\n",
    "    plt.hist(loan_num[i])\n",
    "    plt.title(i)\n",
    "    plt.show()"
   ]
  },
  {
   "cell_type": "markdown",
   "metadata": {},
   "source": [
    "### Categorical (split by Loan status):"
   ]
  },
  {
   "cell_type": "code",
   "execution_count": 16,
   "metadata": {},
   "outputs": [
    {
     "data": {
      "image/png": "[encoded data removed]",
      "text/plain": [
       "<Figure size 1080x720 with 1 Axes>"
      ]
     },
     "metadata": {},
     "output_type": "display_data"
    },
    {
     "data": {
      "image/png": "[encoded data removed]",
      "text/plain": [
       "<Figure size 1080x720 with 1 Axes>"
      ]
     },
     "metadata": {},
     "output_type": "display_data"
    },
    {
     "data": {
      "image/png": "[encoded data removed]",
      "text/plain": [
       "<Figure size 1080x720 with 1 Axes>"
      ]
     },
     "metadata": {},
     "output_type": "display_data"
    },
    {
     "data": {
      "image/png": "[encoded data removed]",
      "text/plain": [
       "<Figure size 1080x720 with 1 Axes>"
      ]
     },
     "metadata": {},
     "output_type": "display_data"
    },
    {
     "data": {
      "image/png": "[encoded data removed]",
      "text/plain": [
       "<Figure size 1080x720 with 1 Axes>"
      ]
     },
     "metadata": {},
     "output_type": "display_data"
    },
    {
     "data": {
      "image/png": "[encoded data removed]",
      "text/plain": [
       "<Figure size 1080x720 with 1 Axes>"
      ]
     },
     "metadata": {},
     "output_type": "display_data"
    }
   ],
   "source": [
    "for i in cat[:-1]: \n",
    "    plt.figure(figsize=(15,10))\n",
    "    plt.subplot(2,3,1)\n",
    "    sns.countplot(x=i ,hue='Loan_Status', data=tr_df ,palette='plasma')\n",
    "    plt.xlabel(i, fontsize=14)"
   ]
  },
  {
   "cell_type": "markdown",
   "metadata": {},
   "source": [
    "## Encoding data to numeric"
   ]
  },
  {
   "cell_type": "code",
   "execution_count": 17,
   "metadata": {},
   "outputs": [
    {
     "name": "stdout",
     "output_type": "stream",
     "text": [
      "training set (row, col): (614, 12)\n",
      "\n",
      "testing set (row, col): (367, 11)\n",
      "\n",
      "<class 'pandas.core.frame.DataFrame'>\n",
      "RangeIndex: 614 entries, 0 to 613\n",
      "Data columns (total 12 columns):\n",
      "Gender               614 non-null int64\n",
      "Married              614 non-null int64\n",
      "Education            614 non-null int64\n",
      "Self_Employed        614 non-null int64\n",
      "ApplicantIncome      614 non-null int64\n",
      "CoapplicantIncome    614 non-null float64\n",
      "LoanAmount           614 non-null float64\n",
      "Loan_Amount_Term     614 non-null float64\n",
      "Credit_History       614 non-null float64\n",
      "Property_Area        614 non-null int64\n",
      "Loan_Status          614 non-null int64\n",
      "Dependents           614 non-null int64\n",
      "dtypes: float64(4), int64(8)\n",
      "memory usage: 57.7 KB\n",
      "<class 'pandas.core.frame.DataFrame'>\n",
      "RangeIndex: 367 entries, 0 to 366\n",
      "Data columns (total 11 columns):\n",
      "Gender               356 non-null float64\n",
      "Married              367 non-null int64\n",
      "Education            367 non-null int64\n",
      "Self_Employed        344 non-null float64\n",
      "ApplicantIncome      367 non-null int64\n",
      "CoapplicantIncome    367 non-null int64\n",
      "LoanAmount           362 non-null float64\n",
      "Loan_Amount_Term     361 non-null float64\n",
      "Credit_History       338 non-null float64\n",
      "Property_Area        367 non-null int64\n",
      "Dependents           357 non-null float64\n",
      "dtypes: float64(6), int64(5)\n",
      "memory usage: 31.7 KB\n",
      "None \n",
      "\n",
      " None\n"
     ]
    }
   ],
   "source": [
    "#converting categorical values to numbers\n",
    "\n",
    "to_numeric = {'Male': 1, 'Female': 2,\n",
    "'Yes': 1, 'No': 2,\n",
    "'Graduate': 1, 'Not Graduate': 2,\n",
    "'Urban': 3, 'Semiurban': 2,'Rural': 1,\n",
    "'Y': 1, 'N': 0,\n",
    "'3+': 3}\n",
    "\n",
    "# adding the new numeric values from the to_numeric variable to both datasets\n",
    "tr_df = tr_df.applymap(lambda lable: to_numeric.get(lable) if lable in to_numeric else lable)\n",
    "te_df = te_df.applymap(lambda lable: to_numeric.get(lable) if lable in to_numeric else lable)\n",
    "\n",
    "# converting the Dependents column\n",
    "Dependents_ = pd.to_numeric(tr_df.Dependents)\n",
    "Dependents__ = pd.to_numeric(te_df.Dependents)\n",
    "\n",
    "# dropping the previous Dependents column\n",
    "tr_df.drop(['Dependents'], axis = 1, inplace = True)\n",
    "te_df.drop(['Dependents'], axis = 1, inplace = True)\n",
    "\n",
    "# concatination of the new Dependents column with both datasets\n",
    "tr_df = pd.concat([tr_df, Dependents_], axis = 1)\n",
    "te_df = pd.concat([te_df, Dependents__], axis = 1)\n",
    "\n",
    "# checking the manipulated dataset for validation\n",
    "print(f\"training set (row, col): {tr_df.shape}\\n\\ntesting set (row, col): {te_df.shape}\\n\")\n",
    "print(tr_df.info(), \"\\n\\n\", te_df.info())"
   ]
  },
  {
   "cell_type": "markdown",
   "metadata": {},
   "source": [
    "## Correlation matrix"
   ]
  },
  {
   "cell_type": "code",
   "execution_count": 18,
   "metadata": {},
   "outputs": [
    {
     "data": {
      "text/plain": [
       "<matplotlib.axes._subplots.AxesSubplot at 0x7f608acde5c0>"
      ]
     },
     "execution_count": 18,
     "metadata": {},
     "output_type": "execute_result"
    },
    {
     "data": {
      "image/png": "[encoded data removed]",
      "text/plain": [
       "<Figure size 432x288 with 2 Axes>"
      ]
     },
     "metadata": {},
     "output_type": "display_data"
    }
   ],
   "source": [
    "#plotting the correlation matrix\n",
    "sns.heatmap(tr_df.corr() ,cmap='cubehelix_r')"
   ]
  },
  {
   "cell_type": "markdown",
   "metadata": {},
   "source": [
    "### Correlation table for a more detailed analysis:"
   ]
  },
  {
   "cell_type": "code",
   "execution_count": 19,
   "metadata": {},
   "outputs": [
    {
     "data": {
      "text/html": [
       "<style  type=\"text/css\" >\n",
       "    #T_dd93b0cc_68be_11ed_a524_077fd504fbb9row0_col0 {\n",
       "            background-color:  #b40426;\n",
       "            color:  #f1f1f1;\n",
       "        }    #T_dd93b0cc_68be_11ed_a524_077fd504fbb9row0_col1 {\n",
       "            background-color:  #e3d9d3;\n",
       "            color:  #000000;\n",
       "        }    #T_dd93b0cc_68be_11ed_a524_077fd504fbb9row0_col2 {\n",
       "            background-color:  #5b7ae5;\n",
       "            color:  #000000;\n",
       "        }    #T_dd93b0cc_68be_11ed_a524_077fd504fbb9row0_col3 {\n",
       "            background-color:  #5d7ce6;\n",
       "            color:  #000000;\n",
       "        }    #T_dd93b0cc_68be_11ed_a524_077fd504fbb9row0_col4 {\n",
       "            background-color:  #506bda;\n",
       "            color:  #000000;\n",
       "        }    #T_dd93b0cc_68be_11ed_a524_077fd504fbb9row0_col5 {\n",
       "            background-color:  #4358cb;\n",
       "            color:  #f1f1f1;\n",
       "        }    #T_dd93b0cc_68be_11ed_a524_077fd504fbb9row0_col6 {\n",
       "            background-color:  #4a63d3;\n",
       "            color:  #f1f1f1;\n",
       "        }    #T_dd93b0cc_68be_11ed_a524_077fd504fbb9row0_col7 {\n",
       "            background-color:  #6e90f2;\n",
       "            color:  #000000;\n",
       "        }    #T_dd93b0cc_68be_11ed_a524_077fd504fbb9row0_col8 {\n",
       "            background-color:  #4c66d6;\n",
       "            color:  #000000;\n",
       "        }    #T_dd93b0cc_68be_11ed_a524_077fd504fbb9row0_col9 {\n",
       "            background-color:  #5875e1;\n",
       "            color:  #000000;\n",
       "        }    #T_dd93b0cc_68be_11ed_a524_077fd504fbb9row0_col10 {\n",
       "            background-color:  #4f69d9;\n",
       "            color:  #000000;\n",
       "        }    #T_dd93b0cc_68be_11ed_a524_077fd504fbb9row0_col11 {\n",
       "            background-color:  #5f7fe8;\n",
       "            color:  #000000;\n",
       "        }    #T_dd93b0cc_68be_11ed_a524_077fd504fbb9row1_col0 {\n",
       "            background-color:  #d2dbe8;\n",
       "            color:  #000000;\n",
       "        }    #T_dd93b0cc_68be_11ed_a524_077fd504fbb9row1_col1 {\n",
       "            background-color:  #b40426;\n",
       "            color:  #f1f1f1;\n",
       "        }    #T_dd93b0cc_68be_11ed_a524_077fd504fbb9row1_col2 {\n",
       "            background-color:  #6485ec;\n",
       "            color:  #000000;\n",
       "        }    #T_dd93b0cc_68be_11ed_a524_077fd504fbb9row1_col3 {\n",
       "            background-color:  #5e7de7;\n",
       "            color:  #000000;\n",
       "        }    #T_dd93b0cc_68be_11ed_a524_077fd504fbb9row1_col4 {\n",
       "            background-color:  #516ddb;\n",
       "            color:  #000000;\n",
       "        }    #T_dd93b0cc_68be_11ed_a524_077fd504fbb9row1_col5 {\n",
       "            background-color:  #455cce;\n",
       "            color:  #f1f1f1;\n",
       "        }    #T_dd93b0cc_68be_11ed_a524_077fd504fbb9row1_col6 {\n",
       "            background-color:  #4055c8;\n",
       "            color:  #f1f1f1;\n",
       "        }    #T_dd93b0cc_68be_11ed_a524_077fd504fbb9row1_col7 {\n",
       "            background-color:  #7699f6;\n",
       "            color:  #000000;\n",
       "        }    #T_dd93b0cc_68be_11ed_a524_077fd504fbb9row1_col8 {\n",
       "            background-color:  #4b64d5;\n",
       "            color:  #f1f1f1;\n",
       "        }    #T_dd93b0cc_68be_11ed_a524_077fd504fbb9row1_col9 {\n",
       "            background-color:  #4f69d9;\n",
       "            color:  #000000;\n",
       "        }    #T_dd93b0cc_68be_11ed_a524_077fd504fbb9row1_col10 {\n",
       "            background-color:  #3b4cc0;\n",
       "            color:  #f1f1f1;\n",
       "        }    #T_dd93b0cc_68be_11ed_a524_077fd504fbb9row1_col11 {\n",
       "            background-color:  #3b4cc0;\n",
       "            color:  #f1f1f1;\n",
       "        }    #T_dd93b0cc_68be_11ed_a524_077fd504fbb9row2_col0 {\n",
       "            background-color:  #5b7ae5;\n",
       "            color:  #000000;\n",
       "        }    #T_dd93b0cc_68be_11ed_a524_077fd504fbb9row2_col1 {\n",
       "            background-color:  #89acfd;\n",
       "            color:  #000000;\n",
       "        }    #T_dd93b0cc_68be_11ed_a524_077fd504fbb9row2_col2 {\n",
       "            background-color:  #b40426;\n",
       "            color:  #f1f1f1;\n",
       "        }    #T_dd93b0cc_68be_11ed_a524_077fd504fbb9row2_col3 {\n",
       "            background-color:  #6180e9;\n",
       "            color:  #000000;\n",
       "        }    #T_dd93b0cc_68be_11ed_a524_077fd504fbb9row2_col4 {\n",
       "            background-color:  #3b4cc0;\n",
       "            color:  #f1f1f1;\n",
       "        }    #T_dd93b0cc_68be_11ed_a524_077fd504fbb9row2_col5 {\n",
       "            background-color:  #4961d2;\n",
       "            color:  #f1f1f1;\n",
       "        }    #T_dd93b0cc_68be_11ed_a524_077fd504fbb9row2_col6 {\n",
       "            background-color:  #3b4cc0;\n",
       "            color:  #f1f1f1;\n",
       "        }    #T_dd93b0cc_68be_11ed_a524_077fd504fbb9row2_col7 {\n",
       "            background-color:  #4257c9;\n",
       "            color:  #f1f1f1;\n",
       "        }    #T_dd93b0cc_68be_11ed_a524_077fd504fbb9row2_col8 {\n",
       "            background-color:  #3b4cc0;\n",
       "            color:  #f1f1f1;\n",
       "        }    #T_dd93b0cc_68be_11ed_a524_077fd504fbb9row2_col9 {\n",
       "            background-color:  #3d50c3;\n",
       "            color:  #f1f1f1;\n",
       "        }    #T_dd93b0cc_68be_11ed_a524_077fd504fbb9row2_col10 {\n",
       "            background-color:  #3c4ec2;\n",
       "            color:  #f1f1f1;\n",
       "        }    #T_dd93b0cc_68be_11ed_a524_077fd504fbb9row2_col11 {\n",
       "            background-color:  #9bbcff;\n",
       "            color:  #000000;\n",
       "        }    #T_dd93b0cc_68be_11ed_a524_077fd504fbb9row3_col0 {\n",
       "            background-color:  #688aef;\n",
       "            color:  #000000;\n",
       "        }    #T_dd93b0cc_68be_11ed_a524_077fd504fbb9row3_col1 {\n",
       "            background-color:  #8db0fe;\n",
       "            color:  #000000;\n",
       "        }    #T_dd93b0cc_68be_11ed_a524_077fd504fbb9row3_col2 {\n",
       "            background-color:  #6b8df0;\n",
       "            color:  #000000;\n",
       "        }    #T_dd93b0cc_68be_11ed_a524_077fd504fbb9row3_col3 {\n",
       "            background-color:  #b40426;\n",
       "            color:  #f1f1f1;\n",
       "        }    #T_dd93b0cc_68be_11ed_a524_077fd504fbb9row3_col4 {\n",
       "            background-color:  #3e51c5;\n",
       "            color:  #f1f1f1;\n",
       "        }    #T_dd93b0cc_68be_11ed_a524_077fd504fbb9row3_col5 {\n",
       "            background-color:  #5f7fe8;\n",
       "            color:  #000000;\n",
       "        }    #T_dd93b0cc_68be_11ed_a524_077fd504fbb9row3_col6 {\n",
       "            background-color:  #485fd1;\n",
       "            color:  #f1f1f1;\n",
       "        }    #T_dd93b0cc_68be_11ed_a524_077fd504fbb9row3_col7 {\n",
       "            background-color:  #6180e9;\n",
       "            color:  #000000;\n",
       "        }    #T_dd93b0cc_68be_11ed_a524_077fd504fbb9row3_col8 {\n",
       "            background-color:  #4f69d9;\n",
       "            color:  #000000;\n",
       "        }    #T_dd93b0cc_68be_11ed_a524_077fd504fbb9row3_col9 {\n",
       "            background-color:  #5977e3;\n",
       "            color:  #000000;\n",
       "        }    #T_dd93b0cc_68be_11ed_a524_077fd504fbb9row3_col10 {\n",
       "            background-color:  #5572df;\n",
       "            color:  #000000;\n",
       "        }    #T_dd93b0cc_68be_11ed_a524_077fd504fbb9row3_col11 {\n",
       "            background-color:  #7ea1fa;\n",
       "            color:  #000000;\n",
       "        }    #T_dd93b0cc_68be_11ed_a524_077fd504fbb9row4_col0 {\n",
       "            background-color:  #5875e1;\n",
       "            color:  #000000;\n",
       "        }    #T_dd93b0cc_68be_11ed_a524_077fd504fbb9row4_col1 {\n",
       "            background-color:  #80a3fa;\n",
       "            color:  #000000;\n",
       "        }    #T_dd93b0cc_68be_11ed_a524_077fd504fbb9row4_col2 {\n",
       "            background-color:  #4257c9;\n",
       "            color:  #f1f1f1;\n",
       "        }    #T_dd93b0cc_68be_11ed_a524_077fd504fbb9row4_col3 {\n",
       "            background-color:  #3b4cc0;\n",
       "            color:  #f1f1f1;\n",
       "        }    #T_dd93b0cc_68be_11ed_a524_077fd504fbb9row4_col4 {\n",
       "            background-color:  #b40426;\n",
       "            color:  #f1f1f1;\n",
       "        }    #T_dd93b0cc_68be_11ed_a524_077fd504fbb9row4_col5 {\n",
       "            background-color:  #3b4cc0;\n",
       "            color:  #f1f1f1;\n",
       "        }    #T_dd93b0cc_68be_11ed_a524_077fd504fbb9row4_col6 {\n",
       "            background-color:  #f5c4ac;\n",
       "            color:  #000000;\n",
       "        }    #T_dd93b0cc_68be_11ed_a524_077fd504fbb9row4_col7 {\n",
       "            background-color:  #4a63d3;\n",
       "            color:  #f1f1f1;\n",
       "        }    #T_dd93b0cc_68be_11ed_a524_077fd504fbb9row4_col8 {\n",
       "            background-color:  #4a63d3;\n",
       "            color:  #f1f1f1;\n",
       "        }    #T_dd93b0cc_68be_11ed_a524_077fd504fbb9row4_col9 {\n",
       "            background-color:  #4c66d6;\n",
       "            color:  #000000;\n",
       "        }    #T_dd93b0cc_68be_11ed_a524_077fd504fbb9row4_col10 {\n",
       "            background-color:  #536edd;\n",
       "            color:  #000000;\n",
       "        }    #T_dd93b0cc_68be_11ed_a524_077fd504fbb9row4_col11 {\n",
       "            background-color:  #abc8fd;\n",
       "            color:  #000000;\n",
       "        }    #T_dd93b0cc_68be_11ed_a524_077fd504fbb9row5_col0 {\n",
       "            background-color:  #516ddb;\n",
       "            color:  #000000;\n",
       "        }    #T_dd93b0cc_68be_11ed_a524_077fd504fbb9row5_col1 {\n",
       "            background-color:  #799cf8;\n",
       "            color:  #000000;\n",
       "        }    #T_dd93b0cc_68be_11ed_a524_077fd504fbb9row5_col2 {\n",
       "            background-color:  #5673e0;\n",
       "            color:  #000000;\n",
       "        }    #T_dd93b0cc_68be_11ed_a524_077fd504fbb9row5_col3 {\n",
       "            background-color:  #6282ea;\n",
       "            color:  #000000;\n",
       "        }    #T_dd93b0cc_68be_11ed_a524_077fd504fbb9row5_col4 {\n",
       "            background-color:  #4055c8;\n",
       "            color:  #f1f1f1;\n",
       "        }    #T_dd93b0cc_68be_11ed_a524_077fd504fbb9row5_col5 {\n",
       "            background-color:  #b40426;\n",
       "            color:  #f1f1f1;\n",
       "        }    #T_dd93b0cc_68be_11ed_a524_077fd504fbb9row5_col6 {\n",
       "            background-color:  #a1c0ff;\n",
       "            color:  #000000;\n",
       "        }    #T_dd93b0cc_68be_11ed_a524_077fd504fbb9row5_col7 {\n",
       "            background-color:  #465ecf;\n",
       "            color:  #f1f1f1;\n",
       "        }    #T_dd93b0cc_68be_11ed_a524_077fd504fbb9row5_col8 {\n",
       "            background-color:  #536edd;\n",
       "            color:  #000000;\n",
       "        }    #T_dd93b0cc_68be_11ed_a524_077fd504fbb9row5_col9 {\n",
       "            background-color:  #536edd;\n",
       "            color:  #000000;\n",
       "        }    #T_dd93b0cc_68be_11ed_a524_077fd504fbb9row5_col10 {\n",
       "            background-color:  #4358cb;\n",
       "            color:  #f1f1f1;\n",
       "        }    #T_dd93b0cc_68be_11ed_a524_077fd504fbb9row5_col11 {\n",
       "            background-color:  #94b6ff;\n",
       "            color:  #000000;\n",
       "        }    #T_dd93b0cc_68be_11ed_a524_077fd504fbb9row6_col0 {\n",
       "            background-color:  #4b64d5;\n",
       "            color:  #f1f1f1;\n",
       "        }    #T_dd93b0cc_68be_11ed_a524_077fd504fbb9row6_col1 {\n",
       "            background-color:  #6788ee;\n",
       "            color:  #000000;\n",
       "        }    #T_dd93b0cc_68be_11ed_a524_077fd504fbb9row6_col2 {\n",
       "            background-color:  #3b4cc0;\n",
       "            color:  #f1f1f1;\n",
       "        }    #T_dd93b0cc_68be_11ed_a524_077fd504fbb9row6_col3 {\n",
       "            background-color:  #3d50c3;\n",
       "            color:  #f1f1f1;\n",
       "        }    #T_dd93b0cc_68be_11ed_a524_077fd504fbb9row6_col4 {\n",
       "            background-color:  #f4c6af;\n",
       "            color:  #000000;\n",
       "        }    #T_dd93b0cc_68be_11ed_a524_077fd504fbb9row6_col5 {\n",
       "            background-color:  #96b7ff;\n",
       "            color:  #000000;\n",
       "        }    #T_dd93b0cc_68be_11ed_a524_077fd504fbb9row6_col6 {\n",
       "            background-color:  #b40426;\n",
       "            color:  #f1f1f1;\n",
       "        }    #T_dd93b0cc_68be_11ed_a524_077fd504fbb9row6_col7 {\n",
       "            background-color:  #6282ea;\n",
       "            color:  #000000;\n",
       "        }    #T_dd93b0cc_68be_11ed_a524_077fd504fbb9row6_col8 {\n",
       "            background-color:  #4f69d9;\n",
       "            color:  #000000;\n",
       "        }    #T_dd93b0cc_68be_11ed_a524_077fd504fbb9row6_col9 {\n",
       "            background-color:  #4257c9;\n",
       "            color:  #f1f1f1;\n",
       "        }    #T_dd93b0cc_68be_11ed_a524_077fd504fbb9row6_col10 {\n",
       "            background-color:  #4a63d3;\n",
       "            color:  #f1f1f1;\n",
       "        }    #T_dd93b0cc_68be_11ed_a524_077fd504fbb9row6_col11 {\n",
       "            background-color:  #b7cff9;\n",
       "            color:  #000000;\n",
       "        }    #T_dd93b0cc_68be_11ed_a524_077fd504fbb9row7_col0 {\n",
       "            background-color:  #7ea1fa;\n",
       "            color:  #000000;\n",
       "        }    #T_dd93b0cc_68be_11ed_a524_077fd504fbb9row7_col1 {\n",
       "            background-color:  #a7c5fe;\n",
       "            color:  #000000;\n",
       "        }    #T_dd93b0cc_68be_11ed_a524_077fd504fbb9row7_col2 {\n",
       "            background-color:  #536edd;\n",
       "            color:  #000000;\n",
       "        }    #T_dd93b0cc_68be_11ed_a524_077fd504fbb9row7_col3 {\n",
       "            background-color:  #6788ee;\n",
       "            color:  #000000;\n",
       "        }    #T_dd93b0cc_68be_11ed_a524_077fd504fbb9row7_col4 {\n",
       "            background-color:  #5470de;\n",
       "            color:  #000000;\n",
       "        }    #T_dd93b0cc_68be_11ed_a524_077fd504fbb9row7_col5 {\n",
       "            background-color:  #4a63d3;\n",
       "            color:  #f1f1f1;\n",
       "        }    #T_dd93b0cc_68be_11ed_a524_077fd504fbb9row7_col6 {\n",
       "            background-color:  #7396f5;\n",
       "            color:  #000000;\n",
       "        }    #T_dd93b0cc_68be_11ed_a524_077fd504fbb9row7_col7 {\n",
       "            background-color:  #b40426;\n",
       "            color:  #f1f1f1;\n",
       "        }    #T_dd93b0cc_68be_11ed_a524_077fd504fbb9row7_col8 {\n",
       "            background-color:  #4e68d8;\n",
       "            color:  #000000;\n",
       "        }    #T_dd93b0cc_68be_11ed_a524_077fd504fbb9row7_col9 {\n",
       "            background-color:  #3b4cc0;\n",
       "            color:  #f1f1f1;\n",
       "        }    #T_dd93b0cc_68be_11ed_a524_077fd504fbb9row7_col10 {\n",
       "            background-color:  #4e68d8;\n",
       "            color:  #000000;\n",
       "        }    #T_dd93b0cc_68be_11ed_a524_077fd504fbb9row7_col11 {\n",
       "            background-color:  #7295f4;\n",
       "            color:  #000000;\n",
       "        }    #T_dd93b0cc_68be_11ed_a524_077fd504fbb9row8_col0 {\n",
       "            background-color:  #6687ed;\n",
       "            color:  #000000;\n",
       "        }    #T_dd93b0cc_68be_11ed_a524_077fd504fbb9row8_col1 {\n",
       "            background-color:  #8badfd;\n",
       "            color:  #000000;\n",
       "        }    #T_dd93b0cc_68be_11ed_a524_077fd504fbb9row8_col2 {\n",
       "            background-color:  #536edd;\n",
       "            color:  #000000;\n",
       "        }    #T_dd93b0cc_68be_11ed_a524_077fd504fbb9row8_col3 {\n",
       "            background-color:  #5e7de7;\n",
       "            color:  #000000;\n",
       "        }    #T_dd93b0cc_68be_11ed_a524_077fd504fbb9row8_col4 {\n",
       "            background-color:  #5b7ae5;\n",
       "            color:  #000000;\n",
       "        }    #T_dd93b0cc_68be_11ed_a524_077fd504fbb9row8_col5 {\n",
       "            background-color:  #5e7de7;\n",
       "            color:  #000000;\n",
       "        }    #T_dd93b0cc_68be_11ed_a524_077fd504fbb9row8_col6 {\n",
       "            background-color:  #688aef;\n",
       "            color:  #000000;\n",
       "        }    #T_dd93b0cc_68be_11ed_a524_077fd504fbb9row8_col7 {\n",
       "            background-color:  #5572df;\n",
       "            color:  #000000;\n",
       "        }    #T_dd93b0cc_68be_11ed_a524_077fd504fbb9row8_col8 {\n",
       "            background-color:  #b40426;\n",
       "            color:  #f1f1f1;\n",
       "        }    #T_dd93b0cc_68be_11ed_a524_077fd504fbb9row8_col9 {\n",
       "            background-color:  #506bda;\n",
       "            color:  #000000;\n",
       "        }    #T_dd93b0cc_68be_11ed_a524_077fd504fbb9row8_col10 {\n",
       "            background-color:  #efcfbf;\n",
       "            color:  #000000;\n",
       "        }    #T_dd93b0cc_68be_11ed_a524_077fd504fbb9row8_col11 {\n",
       "            background-color:  #82a6fb;\n",
       "            color:  #000000;\n",
       "        }    #T_dd93b0cc_68be_11ed_a524_077fd504fbb9row9_col0 {\n",
       "            background-color:  #7093f3;\n",
       "            color:  #000000;\n",
       "        }    #T_dd93b0cc_68be_11ed_a524_077fd504fbb9row9_col1 {\n",
       "            background-color:  #8caffe;\n",
       "            color:  #000000;\n",
       "        }    #T_dd93b0cc_68be_11ed_a524_077fd504fbb9row9_col2 {\n",
       "            background-color:  #5572df;\n",
       "            color:  #000000;\n",
       "        }    #T_dd93b0cc_68be_11ed_a524_077fd504fbb9row9_col3 {\n",
       "            background-color:  #6687ed;\n",
       "            color:  #000000;\n",
       "        }    #T_dd93b0cc_68be_11ed_a524_077fd504fbb9row9_col4 {\n",
       "            background-color:  #5e7de7;\n",
       "            color:  #000000;\n",
       "        }    #T_dd93b0cc_68be_11ed_a524_077fd504fbb9row9_col5 {\n",
       "            background-color:  #5e7de7;\n",
       "            color:  #000000;\n",
       "        }    #T_dd93b0cc_68be_11ed_a524_077fd504fbb9row9_col6 {\n",
       "            background-color:  #5a78e4;\n",
       "            color:  #000000;\n",
       "        }    #T_dd93b0cc_68be_11ed_a524_077fd504fbb9row9_col7 {\n",
       "            background-color:  #4257c9;\n",
       "            color:  #f1f1f1;\n",
       "        }    #T_dd93b0cc_68be_11ed_a524_077fd504fbb9row9_col8 {\n",
       "            background-color:  #506bda;\n",
       "            color:  #000000;\n",
       "        }    #T_dd93b0cc_68be_11ed_a524_077fd504fbb9row9_col9 {\n",
       "            background-color:  #b40426;\n",
       "            color:  #f1f1f1;\n",
       "        }    #T_dd93b0cc_68be_11ed_a524_077fd504fbb9row9_col10 {\n",
       "            background-color:  #5d7ce6;\n",
       "            color:  #000000;\n",
       "        }    #T_dd93b0cc_68be_11ed_a524_077fd504fbb9row9_col11 {\n",
       "            background-color:  #8db0fe;\n",
       "            color:  #000000;\n",
       "        }    #T_dd93b0cc_68be_11ed_a524_077fd504fbb9row10_col0 {\n",
       "            background-color:  #6384eb;\n",
       "            color:  #000000;\n",
       "        }    #T_dd93b0cc_68be_11ed_a524_077fd504fbb9row10_col1 {\n",
       "            background-color:  #7597f6;\n",
       "            color:  #000000;\n",
       "        }    #T_dd93b0cc_68be_11ed_a524_077fd504fbb9row10_col2 {\n",
       "            background-color:  #506bda;\n",
       "            color:  #000000;\n",
       "        }    #T_dd93b0cc_68be_11ed_a524_077fd504fbb9row10_col3 {\n",
       "            background-color:  #5e7de7;\n",
       "            color:  #000000;\n",
       "        }    #T_dd93b0cc_68be_11ed_a524_077fd504fbb9row10_col4 {\n",
       "            background-color:  #5f7fe8;\n",
       "            color:  #000000;\n",
       "        }    #T_dd93b0cc_68be_11ed_a524_077fd504fbb9row10_col5 {\n",
       "            background-color:  #4a63d3;\n",
       "            color:  #f1f1f1;\n",
       "        }    #T_dd93b0cc_68be_11ed_a524_077fd504fbb9row10_col6 {\n",
       "            background-color:  #5f7fe8;\n",
       "            color:  #000000;\n",
       "        }    #T_dd93b0cc_68be_11ed_a524_077fd504fbb9row10_col7 {\n",
       "            background-color:  #506bda;\n",
       "            color:  #000000;\n",
       "        }    #T_dd93b0cc_68be_11ed_a524_077fd504fbb9row10_col8 {\n",
       "            background-color:  #edd1c2;\n",
       "            color:  #000000;\n",
       "        }    #T_dd93b0cc_68be_11ed_a524_077fd504fbb9row10_col9 {\n",
       "            background-color:  #5977e3;\n",
       "            color:  #000000;\n",
       "        }    #T_dd93b0cc_68be_11ed_a524_077fd504fbb9row10_col10 {\n",
       "            background-color:  #b40426;\n",
       "            color:  #f1f1f1;\n",
       "        }    #T_dd93b0cc_68be_11ed_a524_077fd504fbb9row10_col11 {\n",
       "            background-color:  #90b2fe;\n",
       "            color:  #000000;\n",
       "        }    #T_dd93b0cc_68be_11ed_a524_077fd504fbb9row11_col0 {\n",
       "            background-color:  #3b4cc0;\n",
       "            color:  #f1f1f1;\n",
       "        }    #T_dd93b0cc_68be_11ed_a524_077fd504fbb9row11_col1 {\n",
       "            background-color:  #3b4cc0;\n",
       "            color:  #f1f1f1;\n",
       "        }    #T_dd93b0cc_68be_11ed_a524_077fd504fbb9row11_col2 {\n",
       "            background-color:  #799cf8;\n",
       "            color:  #000000;\n",
       "        }    #T_dd93b0cc_68be_11ed_a524_077fd504fbb9row11_col3 {\n",
       "            background-color:  #4c66d6;\n",
       "            color:  #000000;\n",
       "        }    #T_dd93b0cc_68be_11ed_a524_077fd504fbb9row11_col4 {\n",
       "            background-color:  #85a8fc;\n",
       "            color:  #000000;\n",
       "        }    #T_dd93b0cc_68be_11ed_a524_077fd504fbb9row11_col5 {\n",
       "            background-color:  #6384eb;\n",
       "            color:  #000000;\n",
       "        }    #T_dd93b0cc_68be_11ed_a524_077fd504fbb9row11_col6 {\n",
       "            background-color:  #98b9ff;\n",
       "            color:  #000000;\n",
       "        }    #T_dd93b0cc_68be_11ed_a524_077fd504fbb9row11_col7 {\n",
       "            background-color:  #3b4cc0;\n",
       "            color:  #f1f1f1;\n",
       "        }    #T_dd93b0cc_68be_11ed_a524_077fd504fbb9row11_col8 {\n",
       "            background-color:  #4358cb;\n",
       "            color:  #f1f1f1;\n",
       "        }    #T_dd93b0cc_68be_11ed_a524_077fd504fbb9row11_col9 {\n",
       "            background-color:  #506bda;\n",
       "            color:  #000000;\n",
       "        }    #T_dd93b0cc_68be_11ed_a524_077fd504fbb9row11_col10 {\n",
       "            background-color:  #5673e0;\n",
       "            color:  #000000;\n",
       "        }    #T_dd93b0cc_68be_11ed_a524_077fd504fbb9row11_col11 {\n",
       "            background-color:  #b40426;\n",
       "            color:  #f1f1f1;\n",
       "        }</style><table id=\"T_dd93b0cc_68be_11ed_a524_077fd504fbb9\" ><thead>    <tr>        <th class=\"blank level0\" ></th>        <th class=\"col_heading level0 col0\" >Gender</th>        <th class=\"col_heading level0 col1\" >Married</th>        <th class=\"col_heading level0 col2\" >Education</th>        <th class=\"col_heading level0 col3\" >Self_Employed</th>        <th class=\"col_heading level0 col4\" >ApplicantIncome</th>        <th class=\"col_heading level0 col5\" >CoapplicantIncome</th>        <th class=\"col_heading level0 col6\" >LoanAmount</th>        <th class=\"col_heading level0 col7\" >Loan_Amount_Term</th>        <th class=\"col_heading level0 col8\" >Credit_History</th>        <th class=\"col_heading level0 col9\" >Property_Area</th>        <th class=\"col_heading level0 col10\" >Loan_Status</th>        <th class=\"col_heading level0 col11\" >Dependents</th>    </tr></thead><tbody>\n",
       "                <tr>\n",
       "                        <th id=\"T_dd93b0cc_68be_11ed_a524_077fd504fbb9level0_row0\" class=\"row_heading level0 row0\" >Gender</th>\n",
       "                        <td id=\"T_dd93b0cc_68be_11ed_a524_077fd504fbb9row0_col0\" class=\"data row0 col0\" >1</td>\n",
       "                        <td id=\"T_dd93b0cc_68be_11ed_a524_077fd504fbb9row0_col1\" class=\"data row0 col1\" >0.36</td>\n",
       "                        <td id=\"T_dd93b0cc_68be_11ed_a524_077fd504fbb9row0_col2\" class=\"data row0 col2\" >-0.045</td>\n",
       "                        <td id=\"T_dd93b0cc_68be_11ed_a524_077fd504fbb9row0_col3\" class=\"data row0 col3\" >-0.00052</td>\n",
       "                        <td id=\"T_dd93b0cc_68be_11ed_a524_077fd504fbb9row0_col4\" class=\"data row0 col4\" >-0.059</td>\n",
       "                        <td id=\"T_dd93b0cc_68be_11ed_a524_077fd504fbb9row0_col5\" class=\"data row0 col5\" >-0.083</td>\n",
       "                        <td id=\"T_dd93b0cc_68be_11ed_a524_077fd504fbb9row0_col6\" class=\"data row0 col6\" >-0.11</td>\n",
       "                        <td id=\"T_dd93b0cc_68be_11ed_a524_077fd504fbb9row0_col7\" class=\"data row0 col7\" >0.074</td>\n",
       "                        <td id=\"T_dd93b0cc_68be_11ed_a524_077fd504fbb9row0_col8\" class=\"data row0 col8\" >-0.0092</td>\n",
       "                        <td id=\"T_dd93b0cc_68be_11ed_a524_077fd504fbb9row0_col9\" class=\"data row0 col9\" >0.026</td>\n",
       "                        <td id=\"T_dd93b0cc_68be_11ed_a524_077fd504fbb9row0_col10\" class=\"data row0 col10\" >-0.018</td>\n",
       "                        <td id=\"T_dd93b0cc_68be_11ed_a524_077fd504fbb9row0_col11\" class=\"data row0 col11\" >-0.17</td>\n",
       "            </tr>\n",
       "            <tr>\n",
       "                        <th id=\"T_dd93b0cc_68be_11ed_a524_077fd504fbb9level0_row1\" class=\"row_heading level0 row1\" >Married</th>\n",
       "                        <td id=\"T_dd93b0cc_68be_11ed_a524_077fd504fbb9row1_col0\" class=\"data row1 col0\" >0.36</td>\n",
       "                        <td id=\"T_dd93b0cc_68be_11ed_a524_077fd504fbb9row1_col1\" class=\"data row1 col1\" >1</td>\n",
       "                        <td id=\"T_dd93b0cc_68be_11ed_a524_077fd504fbb9row1_col2\" class=\"data row1 col2\" >-0.012</td>\n",
       "                        <td id=\"T_dd93b0cc_68be_11ed_a524_077fd504fbb9row1_col3\" class=\"data row1 col3\" >0.0045</td>\n",
       "                        <td id=\"T_dd93b0cc_68be_11ed_a524_077fd504fbb9row1_col4\" class=\"data row1 col4\" >-0.052</td>\n",
       "                        <td id=\"T_dd93b0cc_68be_11ed_a524_077fd504fbb9row1_col5\" class=\"data row1 col5\" >-0.076</td>\n",
       "                        <td id=\"T_dd93b0cc_68be_11ed_a524_077fd504fbb9row1_col6\" class=\"data row1 col6\" >-0.15</td>\n",
       "                        <td id=\"T_dd93b0cc_68be_11ed_a524_077fd504fbb9row1_col7\" class=\"data row1 col7\" >0.1</td>\n",
       "                        <td id=\"T_dd93b0cc_68be_11ed_a524_077fd504fbb9row1_col8\" class=\"data row1 col8\" >-0.011</td>\n",
       "                        <td id=\"T_dd93b0cc_68be_11ed_a524_077fd504fbb9row1_col9\" class=\"data row1 col9\" >-0.0043</td>\n",
       "                        <td id=\"T_dd93b0cc_68be_11ed_a524_077fd504fbb9row1_col10\" class=\"data row1 col10\" >-0.091</td>\n",
       "                        <td id=\"T_dd93b0cc_68be_11ed_a524_077fd504fbb9row1_col11\" class=\"data row1 col11\" >-0.33</td>\n",
       "            </tr>\n",
       "            <tr>\n",
       "                        <th id=\"T_dd93b0cc_68be_11ed_a524_077fd504fbb9level0_row2\" class=\"row_heading level0 row2\" >Education</th>\n",
       "                        <td id=\"T_dd93b0cc_68be_11ed_a524_077fd504fbb9row2_col0\" class=\"data row2 col0\" >-0.045</td>\n",
       "                        <td id=\"T_dd93b0cc_68be_11ed_a524_077fd504fbb9row2_col1\" class=\"data row2 col1\" >-0.012</td>\n",
       "                        <td id=\"T_dd93b0cc_68be_11ed_a524_077fd504fbb9row2_col2\" class=\"data row2 col2\" >1</td>\n",
       "                        <td id=\"T_dd93b0cc_68be_11ed_a524_077fd504fbb9row2_col3\" class=\"data row2 col3\" >0.01</td>\n",
       "                        <td id=\"T_dd93b0cc_68be_11ed_a524_077fd504fbb9row2_col4\" class=\"data row2 col4\" >-0.14</td>\n",
       "                        <td id=\"T_dd93b0cc_68be_11ed_a524_077fd504fbb9row2_col5\" class=\"data row2 col5\" >-0.062</td>\n",
       "                        <td id=\"T_dd93b0cc_68be_11ed_a524_077fd504fbb9row2_col6\" class=\"data row2 col6\" >-0.17</td>\n",
       "                        <td id=\"T_dd93b0cc_68be_11ed_a524_077fd504fbb9row2_col7\" class=\"data row2 col7\" >-0.074</td>\n",
       "                        <td id=\"T_dd93b0cc_68be_11ed_a524_077fd504fbb9row2_col8\" class=\"data row2 col8\" >-0.074</td>\n",
       "                        <td id=\"T_dd93b0cc_68be_11ed_a524_077fd504fbb9row2_col9\" class=\"data row2 col9\" >-0.065</td>\n",
       "                        <td id=\"T_dd93b0cc_68be_11ed_a524_077fd504fbb9row2_col10\" class=\"data row2 col10\" >-0.086</td>\n",
       "                        <td id=\"T_dd93b0cc_68be_11ed_a524_077fd504fbb9row2_col11\" class=\"data row2 col11\" >0.056</td>\n",
       "            </tr>\n",
       "            <tr>\n",
       "                        <th id=\"T_dd93b0cc_68be_11ed_a524_077fd504fbb9level0_row3\" class=\"row_heading level0 row3\" >Self_Employed</th>\n",
       "                        <td id=\"T_dd93b0cc_68be_11ed_a524_077fd504fbb9row3_col0\" class=\"data row3 col0\" >-0.00052</td>\n",
       "                        <td id=\"T_dd93b0cc_68be_11ed_a524_077fd504fbb9row3_col1\" class=\"data row3 col1\" >0.0045</td>\n",
       "                        <td id=\"T_dd93b0cc_68be_11ed_a524_077fd504fbb9row3_col2\" class=\"data row3 col2\" >0.01</td>\n",
       "                        <td id=\"T_dd93b0cc_68be_11ed_a524_077fd504fbb9row3_col3\" class=\"data row3 col3\" >1</td>\n",
       "                        <td id=\"T_dd93b0cc_68be_11ed_a524_077fd504fbb9row3_col4\" class=\"data row3 col4\" >-0.13</td>\n",
       "                        <td id=\"T_dd93b0cc_68be_11ed_a524_077fd504fbb9row3_col5\" class=\"data row3 col5\" >0.016</td>\n",
       "                        <td id=\"T_dd93b0cc_68be_11ed_a524_077fd504fbb9row3_col6\" class=\"data row3 col6\" >-0.11</td>\n",
       "                        <td id=\"T_dd93b0cc_68be_11ed_a524_077fd504fbb9row3_col7\" class=\"data row3 col7\" >0.034</td>\n",
       "                        <td id=\"T_dd93b0cc_68be_11ed_a524_077fd504fbb9row3_col8\" class=\"data row3 col8\" >0.0016</td>\n",
       "                        <td id=\"T_dd93b0cc_68be_11ed_a524_077fd504fbb9row3_col9\" class=\"data row3 col9\" >0.031</td>\n",
       "                        <td id=\"T_dd93b0cc_68be_11ed_a524_077fd504fbb9row3_col10\" class=\"data row3 col10\" >0.0037</td>\n",
       "                        <td id=\"T_dd93b0cc_68be_11ed_a524_077fd504fbb9row3_col11\" class=\"data row3 col11\" >-0.057</td>\n",
       "            </tr>\n",
       "            <tr>\n",
       "                        <th id=\"T_dd93b0cc_68be_11ed_a524_077fd504fbb9level0_row4\" class=\"row_heading level0 row4\" >ApplicantIncome</th>\n",
       "                        <td id=\"T_dd93b0cc_68be_11ed_a524_077fd504fbb9row4_col0\" class=\"data row4 col0\" >-0.059</td>\n",
       "                        <td id=\"T_dd93b0cc_68be_11ed_a524_077fd504fbb9row4_col1\" class=\"data row4 col1\" >-0.052</td>\n",
       "                        <td id=\"T_dd93b0cc_68be_11ed_a524_077fd504fbb9row4_col2\" class=\"data row4 col2\" >-0.14</td>\n",
       "                        <td id=\"T_dd93b0cc_68be_11ed_a524_077fd504fbb9row4_col3\" class=\"data row4 col3\" >-0.13</td>\n",
       "                        <td id=\"T_dd93b0cc_68be_11ed_a524_077fd504fbb9row4_col4\" class=\"data row4 col4\" >1</td>\n",
       "                        <td id=\"T_dd93b0cc_68be_11ed_a524_077fd504fbb9row4_col5\" class=\"data row4 col5\" >-0.12</td>\n",
       "                        <td id=\"T_dd93b0cc_68be_11ed_a524_077fd504fbb9row4_col6\" class=\"data row4 col6\" >0.56</td>\n",
       "                        <td id=\"T_dd93b0cc_68be_11ed_a524_077fd504fbb9row4_col7\" class=\"data row4 col7\" >-0.047</td>\n",
       "                        <td id=\"T_dd93b0cc_68be_11ed_a524_077fd504fbb9row4_col8\" class=\"data row4 col8\" >-0.019</td>\n",
       "                        <td id=\"T_dd93b0cc_68be_11ed_a524_077fd504fbb9row4_col9\" class=\"data row4 col9\" >-0.0095</td>\n",
       "                        <td id=\"T_dd93b0cc_68be_11ed_a524_077fd504fbb9row4_col10\" class=\"data row4 col10\" >-0.0047</td>\n",
       "                        <td id=\"T_dd93b0cc_68be_11ed_a524_077fd504fbb9row4_col11\" class=\"data row4 col11\" >0.12</td>\n",
       "            </tr>\n",
       "            <tr>\n",
       "                        <th id=\"T_dd93b0cc_68be_11ed_a524_077fd504fbb9level0_row5\" class=\"row_heading level0 row5\" >CoapplicantIncome</th>\n",
       "                        <td id=\"T_dd93b0cc_68be_11ed_a524_077fd504fbb9row5_col0\" class=\"data row5 col0\" >-0.083</td>\n",
       "                        <td id=\"T_dd93b0cc_68be_11ed_a524_077fd504fbb9row5_col1\" class=\"data row5 col1\" >-0.076</td>\n",
       "                        <td id=\"T_dd93b0cc_68be_11ed_a524_077fd504fbb9row5_col2\" class=\"data row5 col2\" >-0.062</td>\n",
       "                        <td id=\"T_dd93b0cc_68be_11ed_a524_077fd504fbb9row5_col3\" class=\"data row5 col3\" >0.016</td>\n",
       "                        <td id=\"T_dd93b0cc_68be_11ed_a524_077fd504fbb9row5_col4\" class=\"data row5 col4\" >-0.12</td>\n",
       "                        <td id=\"T_dd93b0cc_68be_11ed_a524_077fd504fbb9row5_col5\" class=\"data row5 col5\" >1</td>\n",
       "                        <td id=\"T_dd93b0cc_68be_11ed_a524_077fd504fbb9row5_col6\" class=\"data row5 col6\" >0.19</td>\n",
       "                        <td id=\"T_dd93b0cc_68be_11ed_a524_077fd504fbb9row5_col7\" class=\"data row5 col7\" >-0.059</td>\n",
       "                        <td id=\"T_dd93b0cc_68be_11ed_a524_077fd504fbb9row5_col8\" class=\"data row5 col8\" >0.011</td>\n",
       "                        <td id=\"T_dd93b0cc_68be_11ed_a524_077fd504fbb9row5_col9\" class=\"data row5 col9\" >0.011</td>\n",
       "                        <td id=\"T_dd93b0cc_68be_11ed_a524_077fd504fbb9row5_col10\" class=\"data row5 col10\" >-0.059</td>\n",
       "                        <td id=\"T_dd93b0cc_68be_11ed_a524_077fd504fbb9row5_col11\" class=\"data row5 col11\" >0.03</td>\n",
       "            </tr>\n",
       "            <tr>\n",
       "                        <th id=\"T_dd93b0cc_68be_11ed_a524_077fd504fbb9level0_row6\" class=\"row_heading level0 row6\" >LoanAmount</th>\n",
       "                        <td id=\"T_dd93b0cc_68be_11ed_a524_077fd504fbb9row6_col0\" class=\"data row6 col0\" >-0.11</td>\n",
       "                        <td id=\"T_dd93b0cc_68be_11ed_a524_077fd504fbb9row6_col1\" class=\"data row6 col1\" >-0.15</td>\n",
       "                        <td id=\"T_dd93b0cc_68be_11ed_a524_077fd504fbb9row6_col2\" class=\"data row6 col2\" >-0.17</td>\n",
       "                        <td id=\"T_dd93b0cc_68be_11ed_a524_077fd504fbb9row6_col3\" class=\"data row6 col3\" >-0.11</td>\n",
       "                        <td id=\"T_dd93b0cc_68be_11ed_a524_077fd504fbb9row6_col4\" class=\"data row6 col4\" >0.56</td>\n",
       "                        <td id=\"T_dd93b0cc_68be_11ed_a524_077fd504fbb9row6_col5\" class=\"data row6 col5\" >0.19</td>\n",
       "                        <td id=\"T_dd93b0cc_68be_11ed_a524_077fd504fbb9row6_col6\" class=\"data row6 col6\" >1</td>\n",
       "                        <td id=\"T_dd93b0cc_68be_11ed_a524_077fd504fbb9row6_col7\" class=\"data row6 col7\" >0.037</td>\n",
       "                        <td id=\"T_dd93b0cc_68be_11ed_a524_077fd504fbb9row6_col8\" class=\"data row6 col8\" >-0.00025</td>\n",
       "                        <td id=\"T_dd93b0cc_68be_11ed_a524_077fd504fbb9row6_col9\" class=\"data row6 col9\" >-0.047</td>\n",
       "                        <td id=\"T_dd93b0cc_68be_11ed_a524_077fd504fbb9row6_col10\" class=\"data row6 col10\" >-0.032</td>\n",
       "                        <td id=\"T_dd93b0cc_68be_11ed_a524_077fd504fbb9row6_col11\" class=\"data row6 col11\" >0.16</td>\n",
       "            </tr>\n",
       "            <tr>\n",
       "                        <th id=\"T_dd93b0cc_68be_11ed_a524_077fd504fbb9level0_row7\" class=\"row_heading level0 row7\" >Loan_Amount_Term</th>\n",
       "                        <td id=\"T_dd93b0cc_68be_11ed_a524_077fd504fbb9row7_col0\" class=\"data row7 col0\" >0.074</td>\n",
       "                        <td id=\"T_dd93b0cc_68be_11ed_a524_077fd504fbb9row7_col1\" class=\"data row7 col1\" >0.1</td>\n",
       "                        <td id=\"T_dd93b0cc_68be_11ed_a524_077fd504fbb9row7_col2\" class=\"data row7 col2\" >-0.074</td>\n",
       "                        <td id=\"T_dd93b0cc_68be_11ed_a524_077fd504fbb9row7_col3\" class=\"data row7 col3\" >0.034</td>\n",
       "                        <td id=\"T_dd93b0cc_68be_11ed_a524_077fd504fbb9row7_col4\" class=\"data row7 col4\" >-0.047</td>\n",
       "                        <td id=\"T_dd93b0cc_68be_11ed_a524_077fd504fbb9row7_col5\" class=\"data row7 col5\" >-0.059</td>\n",
       "                        <td id=\"T_dd93b0cc_68be_11ed_a524_077fd504fbb9row7_col6\" class=\"data row7 col6\" >0.037</td>\n",
       "                        <td id=\"T_dd93b0cc_68be_11ed_a524_077fd504fbb9row7_col7\" class=\"data row7 col7\" >1</td>\n",
       "                        <td id=\"T_dd93b0cc_68be_11ed_a524_077fd504fbb9row7_col8\" class=\"data row7 col8\" >-0.0047</td>\n",
       "                        <td id=\"T_dd93b0cc_68be_11ed_a524_077fd504fbb9row7_col9\" class=\"data row7 col9\" >-0.076</td>\n",
       "                        <td id=\"T_dd93b0cc_68be_11ed_a524_077fd504fbb9row7_col10\" class=\"data row7 col10\" >-0.023</td>\n",
       "                        <td id=\"T_dd93b0cc_68be_11ed_a524_077fd504fbb9row7_col11\" class=\"data row7 col11\" >-0.1</td>\n",
       "            </tr>\n",
       "            <tr>\n",
       "                        <th id=\"T_dd93b0cc_68be_11ed_a524_077fd504fbb9level0_row8\" class=\"row_heading level0 row8\" >Credit_History</th>\n",
       "                        <td id=\"T_dd93b0cc_68be_11ed_a524_077fd504fbb9row8_col0\" class=\"data row8 col0\" >-0.0092</td>\n",
       "                        <td id=\"T_dd93b0cc_68be_11ed_a524_077fd504fbb9row8_col1\" class=\"data row8 col1\" >-0.011</td>\n",
       "                        <td id=\"T_dd93b0cc_68be_11ed_a524_077fd504fbb9row8_col2\" class=\"data row8 col2\" >-0.074</td>\n",
       "                        <td id=\"T_dd93b0cc_68be_11ed_a524_077fd504fbb9row8_col3\" class=\"data row8 col3\" >0.0016</td>\n",
       "                        <td id=\"T_dd93b0cc_68be_11ed_a524_077fd504fbb9row8_col4\" class=\"data row8 col4\" >-0.019</td>\n",
       "                        <td id=\"T_dd93b0cc_68be_11ed_a524_077fd504fbb9row8_col5\" class=\"data row8 col5\" >0.011</td>\n",
       "                        <td id=\"T_dd93b0cc_68be_11ed_a524_077fd504fbb9row8_col6\" class=\"data row8 col6\" >-0.00025</td>\n",
       "                        <td id=\"T_dd93b0cc_68be_11ed_a524_077fd504fbb9row8_col7\" class=\"data row8 col7\" >-0.0047</td>\n",
       "                        <td id=\"T_dd93b0cc_68be_11ed_a524_077fd504fbb9row8_col8\" class=\"data row8 col8\" >1</td>\n",
       "                        <td id=\"T_dd93b0cc_68be_11ed_a524_077fd504fbb9row8_col9\" class=\"data row8 col9\" >0.002</td>\n",
       "                        <td id=\"T_dd93b0cc_68be_11ed_a524_077fd504fbb9row8_col10\" class=\"data row8 col10\" >0.54</td>\n",
       "                        <td id=\"T_dd93b0cc_68be_11ed_a524_077fd504fbb9row8_col11\" class=\"data row8 col11\" >-0.04</td>\n",
       "            </tr>\n",
       "            <tr>\n",
       "                        <th id=\"T_dd93b0cc_68be_11ed_a524_077fd504fbb9level0_row9\" class=\"row_heading level0 row9\" >Property_Area</th>\n",
       "                        <td id=\"T_dd93b0cc_68be_11ed_a524_077fd504fbb9row9_col0\" class=\"data row9 col0\" >0.026</td>\n",
       "                        <td id=\"T_dd93b0cc_68be_11ed_a524_077fd504fbb9row9_col1\" class=\"data row9 col1\" >-0.0043</td>\n",
       "                        <td id=\"T_dd93b0cc_68be_11ed_a524_077fd504fbb9row9_col2\" class=\"data row9 col2\" >-0.065</td>\n",
       "                        <td id=\"T_dd93b0cc_68be_11ed_a524_077fd504fbb9row9_col3\" class=\"data row9 col3\" >0.031</td>\n",
       "                        <td id=\"T_dd93b0cc_68be_11ed_a524_077fd504fbb9row9_col4\" class=\"data row9 col4\" >-0.0095</td>\n",
       "                        <td id=\"T_dd93b0cc_68be_11ed_a524_077fd504fbb9row9_col5\" class=\"data row9 col5\" >0.011</td>\n",
       "                        <td id=\"T_dd93b0cc_68be_11ed_a524_077fd504fbb9row9_col6\" class=\"data row9 col6\" >-0.047</td>\n",
       "                        <td id=\"T_dd93b0cc_68be_11ed_a524_077fd504fbb9row9_col7\" class=\"data row9 col7\" >-0.076</td>\n",
       "                        <td id=\"T_dd93b0cc_68be_11ed_a524_077fd504fbb9row9_col8\" class=\"data row9 col8\" >0.002</td>\n",
       "                        <td id=\"T_dd93b0cc_68be_11ed_a524_077fd504fbb9row9_col9\" class=\"data row9 col9\" >1</td>\n",
       "                        <td id=\"T_dd93b0cc_68be_11ed_a524_077fd504fbb9row9_col10\" class=\"data row9 col10\" >0.032</td>\n",
       "                        <td id=\"T_dd93b0cc_68be_11ed_a524_077fd504fbb9row9_col11\" class=\"data row9 col11\" >-0.00024</td>\n",
       "            </tr>\n",
       "            <tr>\n",
       "                        <th id=\"T_dd93b0cc_68be_11ed_a524_077fd504fbb9level0_row10\" class=\"row_heading level0 row10\" >Loan_Status</th>\n",
       "                        <td id=\"T_dd93b0cc_68be_11ed_a524_077fd504fbb9row10_col0\" class=\"data row10 col0\" >-0.018</td>\n",
       "                        <td id=\"T_dd93b0cc_68be_11ed_a524_077fd504fbb9row10_col1\" class=\"data row10 col1\" >-0.091</td>\n",
       "                        <td id=\"T_dd93b0cc_68be_11ed_a524_077fd504fbb9row10_col2\" class=\"data row10 col2\" >-0.086</td>\n",
       "                        <td id=\"T_dd93b0cc_68be_11ed_a524_077fd504fbb9row10_col3\" class=\"data row10 col3\" >0.0037</td>\n",
       "                        <td id=\"T_dd93b0cc_68be_11ed_a524_077fd504fbb9row10_col4\" class=\"data row10 col4\" >-0.0047</td>\n",
       "                        <td id=\"T_dd93b0cc_68be_11ed_a524_077fd504fbb9row10_col5\" class=\"data row10 col5\" >-0.059</td>\n",
       "                        <td id=\"T_dd93b0cc_68be_11ed_a524_077fd504fbb9row10_col6\" class=\"data row10 col6\" >-0.032</td>\n",
       "                        <td id=\"T_dd93b0cc_68be_11ed_a524_077fd504fbb9row10_col7\" class=\"data row10 col7\" >-0.023</td>\n",
       "                        <td id=\"T_dd93b0cc_68be_11ed_a524_077fd504fbb9row10_col8\" class=\"data row10 col8\" >0.54</td>\n",
       "                        <td id=\"T_dd93b0cc_68be_11ed_a524_077fd504fbb9row10_col9\" class=\"data row10 col9\" >0.032</td>\n",
       "                        <td id=\"T_dd93b0cc_68be_11ed_a524_077fd504fbb9row10_col10\" class=\"data row10 col10\" >1</td>\n",
       "                        <td id=\"T_dd93b0cc_68be_11ed_a524_077fd504fbb9row10_col11\" class=\"data row10 col11\" >0.01</td>\n",
       "            </tr>\n",
       "            <tr>\n",
       "                        <th id=\"T_dd93b0cc_68be_11ed_a524_077fd504fbb9level0_row11\" class=\"row_heading level0 row11\" >Dependents</th>\n",
       "                        <td id=\"T_dd93b0cc_68be_11ed_a524_077fd504fbb9row11_col0\" class=\"data row11 col0\" >-0.17</td>\n",
       "                        <td id=\"T_dd93b0cc_68be_11ed_a524_077fd504fbb9row11_col1\" class=\"data row11 col1\" >-0.33</td>\n",
       "                        <td id=\"T_dd93b0cc_68be_11ed_a524_077fd504fbb9row11_col2\" class=\"data row11 col2\" >0.056</td>\n",
       "                        <td id=\"T_dd93b0cc_68be_11ed_a524_077fd504fbb9row11_col3\" class=\"data row11 col3\" >-0.057</td>\n",
       "                        <td id=\"T_dd93b0cc_68be_11ed_a524_077fd504fbb9row11_col4\" class=\"data row11 col4\" >0.12</td>\n",
       "                        <td id=\"T_dd93b0cc_68be_11ed_a524_077fd504fbb9row11_col5\" class=\"data row11 col5\" >0.03</td>\n",
       "                        <td id=\"T_dd93b0cc_68be_11ed_a524_077fd504fbb9row11_col6\" class=\"data row11 col6\" >0.16</td>\n",
       "                        <td id=\"T_dd93b0cc_68be_11ed_a524_077fd504fbb9row11_col7\" class=\"data row11 col7\" >-0.1</td>\n",
       "                        <td id=\"T_dd93b0cc_68be_11ed_a524_077fd504fbb9row11_col8\" class=\"data row11 col8\" >-0.04</td>\n",
       "                        <td id=\"T_dd93b0cc_68be_11ed_a524_077fd504fbb9row11_col9\" class=\"data row11 col9\" >-0.00024</td>\n",
       "                        <td id=\"T_dd93b0cc_68be_11ed_a524_077fd504fbb9row11_col10\" class=\"data row11 col10\" >0.01</td>\n",
       "                        <td id=\"T_dd93b0cc_68be_11ed_a524_077fd504fbb9row11_col11\" class=\"data row11 col11\" >1</td>\n",
       "            </tr>\n",
       "    </tbody></table>"
      ],
      "text/plain": [
       "<pandas.io.formats.style.Styler at 0x7f608ad4beb8>"
      ]
     },
     "execution_count": 19,
     "metadata": {},
     "output_type": "execute_result"
    }
   ],
   "source": [
    "#correlation table\n",
    "corr = tr_df.corr()\n",
    "corr.style.background_gradient(cmap='coolwarm').set_precision(2)"
   ]
  },
  {
   "cell_type": "markdown",
   "metadata": {},
   "source": [
    "# Machine Learning Models"
   ]
  },
  {
   "cell_type": "code",
   "execution_count": 20,
   "metadata": {},
   "outputs": [],
   "source": [
    "y = tr_df['Loan_Status']\n",
    "X = tr_df.drop('Loan_Status', axis = 1)\n",
    "X_train, X_test, y_train, y_test = train_test_split(X, y, test_size = 0.3, random_state = 0)"
   ]
  },
  {
   "cell_type": "markdown",
   "metadata": {},
   "source": [
    "## Decision Tree:"
   ]
  },
  {
   "cell_type": "code",
   "execution_count": 21,
   "metadata": {},
   "outputs": [
    {
     "name": "stdout",
     "output_type": "stream",
     "text": [
      "              precision    recall  f1-score   support\n",
      "\n",
      "           0       0.44      0.55      0.49        51\n",
      "           1       0.81      0.74      0.77       134\n",
      "\n",
      "    accuracy                           0.69       185\n",
      "   macro avg       0.63      0.64      0.63       185\n",
      "weighted avg       0.71      0.69      0.70       185\n",
      "\n",
      "68.65% Accurate\n"
     ]
    }
   ],
   "source": [
    "DT = DecisionTreeClassifier()\n",
    "DT.fit(X_train, y_train)\n",
    "\n",
    "y_predict = DT.predict(X_test)\n",
    "\n",
    "#  prediction Summary by species\n",
    "print(classification_report(y_test, y_predict))\n",
    "\n",
    "# Accuracy score\n",
    "DT_SC = accuracy_score(y_predict,y_test)\n",
    "print(f\"{round(DT_SC*100,2)}% Accurate\")"
   ]
  },
  {
   "cell_type": "code",
   "execution_count": 22,
   "metadata": {},
   "outputs": [],
   "source": [
    "Decision_Tree=pd.DataFrame({'y_test':y_test,'prediction':y_predict})\n",
    "Decision_Tree.to_csv(\"Decision Tree.csv\")"
   ]
  },
  {
   "cell_type": "markdown",
   "metadata": {},
   "source": [
    "## Random Forest:"
   ]
  },
  {
   "cell_type": "code",
   "execution_count": 23,
   "metadata": {},
   "outputs": [
    {
     "name": "stdout",
     "output_type": "stream",
     "text": [
      "              precision    recall  f1-score   support\n",
      "\n",
      "           0       0.68      0.41      0.51        51\n",
      "           1       0.81      0.93      0.86       134\n",
      "\n",
      "    accuracy                           0.78       185\n",
      "   macro avg       0.74      0.67      0.69       185\n",
      "weighted avg       0.77      0.78      0.76       185\n",
      "\n",
      "78.38% Accurate\n"
     ]
    }
   ],
   "source": [
    "RF = RandomForestClassifier()\n",
    "RF.fit(X_train, y_train)\n",
    "\n",
    "y_predict = RF.predict(X_test)\n",
    "\n",
    "#  prediction Summary by species\n",
    "print(classification_report(y_test, y_predict))\n",
    "\n",
    "# Accuracy score\n",
    "RF_SC = accuracy_score(y_predict,y_test)\n",
    "print(f\"{round(RF_SC*100,2)}% Accurate\")"
   ]
  },
  {
   "cell_type": "code",
   "execution_count": 24,
   "metadata": {},
   "outputs": [],
   "source": [
    "Random_Forest=pd.DataFrame({'y_test':y_test,'prediction':y_predict})\n",
    "Random_Forest.to_csv(\"Random Forest.csv\")"
   ]
  },
  {
   "cell_type": "markdown",
   "metadata": {},
   "source": [
    "## XGBoost:"
   ]
  },
  {
   "cell_type": "code",
   "execution_count": 25,
   "metadata": {},
   "outputs": [
    {
     "name": "stdout",
     "output_type": "stream",
     "text": [
      "              precision    recall  f1-score   support\n",
      "\n",
      "           0       0.82      0.45      0.58        51\n",
      "           1       0.82      0.96      0.89       134\n",
      "\n",
      "    accuracy                           0.82       185\n",
      "   macro avg       0.82      0.71      0.73       185\n",
      "weighted avg       0.82      0.82      0.80       185\n",
      "\n",
      "82.16% Accurate\n"
     ]
    }
   ],
   "source": [
    "XGB = XGBClassifier()\n",
    "XGB.fit(X_train, y_train)\n",
    "\n",
    "y_predict = XGB.predict(X_test)\n",
    "\n",
    "#  prediction Summary by species\n",
    "print(classification_report(y_test, y_predict))\n",
    "\n",
    "# Accuracy score\n",
    "XGB_SC = accuracy_score(y_predict,y_test)\n",
    "print(f\"{round(XGB_SC*100,2)}% Accurate\")"
   ]
  },
  {
   "cell_type": "code",
   "execution_count": 26,
   "metadata": {},
   "outputs": [],
   "source": [
    "XGBoost=pd.DataFrame({'y_test':y_test,'prediction':y_predict})\n",
    "XGBoost.to_csv(\"XGBoost.csv\")"
   ]
  },
  {
   "cell_type": "markdown",
   "metadata": {},
   "source": [
    "## Logistic Regression:"
   ]
  },
  {
   "cell_type": "code",
   "execution_count": 27,
   "metadata": {},
   "outputs": [
    {
     "name": "stdout",
     "output_type": "stream",
     "text": [
      "              precision    recall  f1-score   support\n",
      "\n",
      "           0       0.92      0.43      0.59        51\n",
      "           1       0.82      0.99      0.89       134\n",
      "\n",
      "    accuracy                           0.83       185\n",
      "   macro avg       0.87      0.71      0.74       185\n",
      "weighted avg       0.85      0.83      0.81       185\n",
      "\n",
      "83.24% Accurate\n"
     ]
    }
   ],
   "source": [
    "LR = LogisticRegression()\n",
    "LR.fit(X_train, y_train)\n",
    "\n",
    "y_predict = LR.predict(X_test)\n",
    "\n",
    "#  prediction Summary by species\n",
    "print(classification_report(y_test, y_predict))\n",
    "\n",
    "# Accuracy score\n",
    "LR_SC = accuracy_score(y_predict,y_test)\n",
    "print(f\"{round(LR_SC*100,2)}% Accurate\")"
   ]
  },
  {
   "cell_type": "code",
   "execution_count": 28,
   "metadata": {},
   "outputs": [],
   "source": [
    "Logistic_Regression=pd.DataFrame({'y_test':y_test,'prediction':y_predict})\n",
    "Logistic_Regression.to_csv(\"Logistic Regression.csv\")"
   ]
  },
  {
   "cell_type": "markdown",
   "metadata": {},
   "source": [
    "# Conclusion:"
   ]
  },
  {
   "cell_type": "code",
   "execution_count": 29,
   "metadata": {},
   "outputs": [
    {
     "data": {
      "text/html": [
       "<div>\n",
       "<style scoped>\n",
       "    .dataframe tbody tr th:only-of-type {\n",
       "        vertical-align: middle;\n",
       "    }\n",
       "\n",
       "    .dataframe tbody tr th {\n",
       "        vertical-align: top;\n",
       "    }\n",
       "\n",
       "    .dataframe thead th {\n",
       "        text-align: right;\n",
       "    }\n",
       "</style>\n",
       "<table border=\"1\" class=\"dataframe\">\n",
       "  <thead>\n",
       "    <tr style=\"text-align: right;\">\n",
       "      <th></th>\n",
       "      <th>n_neighbors</th>\n",
       "      <th>Score</th>\n",
       "    </tr>\n",
       "  </thead>\n",
       "  <tbody>\n",
       "    <tr>\n",
       "      <td>0</td>\n",
       "      <td>Decision Tree</td>\n",
       "      <td>0.686486</td>\n",
       "    </tr>\n",
       "    <tr>\n",
       "      <td>1</td>\n",
       "      <td>Random Forest</td>\n",
       "      <td>0.783784</td>\n",
       "    </tr>\n",
       "    <tr>\n",
       "      <td>2</td>\n",
       "      <td>XGBoost</td>\n",
       "      <td>0.821622</td>\n",
       "    </tr>\n",
       "    <tr>\n",
       "      <td>3</td>\n",
       "      <td>Logistic Regression</td>\n",
       "      <td>0.832432</td>\n",
       "    </tr>\n",
       "  </tbody>\n",
       "</table>\n",
       "</div>"
      ],
      "text/plain": [
       "           n_neighbors     Score\n",
       "0        Decision Tree  0.686486\n",
       "1        Random Forest  0.783784\n",
       "2              XGBoost  0.821622\n",
       "3  Logistic Regression  0.832432"
      ]
     },
     "execution_count": 29,
     "metadata": {},
     "output_type": "execute_result"
    }
   ],
   "source": [
    "score = [DT_SC,RF_SC,XGB_SC,LR_SC]\n",
    "Models = pd.DataFrame({\n",
    "    'n_neighbors': [\"Decision Tree\",\"Random Forest\",\"XGBoost\", \"Logistic Regression\"],\n",
    "    'Score': score})\n",
    "Models.sort_values(by='Score', ascending=True)"
   ]
  },
  {
   "cell_type": "code",
   "execution_count": null,
   "metadata": {},
   "outputs": [],
   "source": []
  }
 ],
 "metadata": {
  "kernelspec": {
   "display_name": "Python 3",
   "language": "python",
   "name": "python3"
  },
  "language_info": {
   "codemirror_mode": {
    "name": "ipython",
    "version": 3
   },
   "file_extension": ".py",
   "mimetype": "text/x-python",
   "name": "python",
   "nbconvert_exporter": "python",
   "pygments_lexer": "ipython3",
   "version": "3.6.8"
  },
  "toc": {
   "base_numbering": 1,
   "nav_menu": {},
   "number_sections": true,
   "sideBar": true,
   "skip_h1_title": false,
   "title_cell": "Table of Contents",
   "title_sidebar": "Contents",
   "toc_cell": false,
   "toc_position": {},
   "toc_section_display": true,
   "toc_window_display": false
  }
 },
 "nbformat": 4,
 "nbformat_minor": 2
}
